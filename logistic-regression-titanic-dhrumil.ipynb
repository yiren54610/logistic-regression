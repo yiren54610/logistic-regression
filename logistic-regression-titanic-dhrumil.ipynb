{
 "cells": [
  {
   "cell_type": "markdown",
   "metadata": {},
   "source": [
    "## Logistic Regression - Titanic\n",
    "\n",
    "The titanic dataset is a popular dummy dataset used to learn about logistic regression. It has also been used in a [Kaggle data science competition](https://www.kaggle.com/c/titanic), so you'll also find blogposts exploring all kinds of more advanced concepts that use this dataset too! In this assignment, you'll do a logistic regression to look at the effect of sex and class on survival on the titanic, by computing odds ratios.\n",
    "\n",
    "adapted from: https://github.com/jstray/lede-algorithms/blob/master/week-3/week-3-2-homework.ipynb\n",
    "\n",
    "Some references:\n",
    "\n",
    "- [What are odds vs. probability?](https://towcenter.gitbooks.io/curious-journalist-s-guide-to-data/content/analysis/counting_possible_worlds.html)\n",
    "- [Investigate.ai on Logistic Regressions](https://investigate.ai/regression/logistic-regression-quickstart/)\n",
    "- [StatQuest Logistic Regressions Playlist](https://www.youtube.com/watch?v=yIYKR4sgzI8&list=PLblh5JKOoLUKxzEP5HA2d-Li7IJkHfXSe)\n",
    "- [How do I interpret odds ratios in logistic regression?](https://stats.idre.ucla.edu/other/mult-pkg/faq/general/faq-how-do-i-interpret-odds-ratios-in-logistic-regression/) This one's a little more technical, but has good examples.\n"
   ]
  },
  {
   "cell_type": "code",
   "execution_count": 2,
   "metadata": {},
   "outputs": [
    {
     "name": "stdout",
     "output_type": "stream",
     "text": [
      "The rpy2.ipython extension is already loaded. To reload it, use:\n",
      "  %reload_ext rpy2.ipython\n",
      "The autoreload extension is already loaded. To reload it, use:\n",
      "  %reload_ext autoreload\n"
     ]
    }
   ],
   "source": [
    "%load_ext rpy2.ipython\n",
    "%load_ext autoreload\n",
    "%autoreload 2\n",
    "\n",
    "%matplotlib inline  \n",
    "from matplotlib import rcParams\n",
    "rcParams['figure.figsize'] = (16, 100)\n",
    "\n",
    "import warnings\n",
    "from rpy2.rinterface import RRuntimeWarning\n",
    "warnings.filterwarnings(\"ignore\") # Ignore all warnings\n",
    "# warnings.filterwarnings(\"ignore\", category=RRuntimeWarning) # Show some warnings\n",
    "\n",
    "import pandas as pd\n",
    "import numpy as np\n",
    "import matplotlib.pyplot as plt\n",
    "from IPython.display import display, HTML"
   ]
  },
  {
   "cell_type": "code",
   "execution_count": 3,
   "metadata": {},
   "outputs": [
    {
     "data": {
      "application/javascript": "// Disable auto-scrolling\nIPython.OutputArea.prototype._should_scroll = function(lines) {\n    return false;\n}\n",
      "text/plain": [
       "<IPython.core.display.Javascript object>"
      ]
     },
     "metadata": {},
     "output_type": "display_data"
    }
   ],
   "source": [
    "%%javascript\n",
    "// Disable auto-scrolling\n",
    "IPython.OutputArea.prototype._should_scroll = function(lines) {\n",
    "    return false;\n",
    "}"
   ]
  },
  {
   "cell_type": "code",
   "execution_count": 4,
   "metadata": {},
   "outputs": [
    {
     "name": "stdout",
     "output_type": "stream",
     "text": [
      "── Attaching core tidyverse packages ──────────────────────── tidyverse 2.0.0 ──\n",
      "✔ dplyr     1.1.4     ✔ readr     2.1.5\n",
      "✔ forcats   1.0.0     ✔ stringr   1.5.1\n",
      "✔ ggplot2   3.5.1     ✔ tibble    3.2.1\n",
      "✔ lubridate 1.9.4     ✔ tidyr     1.3.1\n",
      "✔ purrr     1.0.2     \n",
      "── Conflicts ────────────────────────────────────────── tidyverse_conflicts() ──\n",
      "✖ dplyr::filter() masks stats::filter()\n",
      "✖ dplyr::lag()    masks stats::lag()\n",
      "ℹ Use the conflicted package (<http://conflicted.r-lib.org/>) to force all conflicts to become errors\n"
     ]
    },
    {
     "data": {
      "text/plain": [
       "Loading required package: tidyverse\n",
       "Loading required package: DescTools\n",
       "In addition: Warning message:\n",
       "In library(package, lib.loc = lib.loc, character.only = TRUE, logical.return = TRUE,  :\n",
       "  there is no package called ‘DescTools’\n"
      ]
     },
     "metadata": {},
     "output_type": "display_data"
    }
   ],
   "source": [
    "%%R\n",
    "\n",
    "require('tidyverse')\n",
    "require('DescTools')"
   ]
  },
  {
   "cell_type": "markdown",
   "metadata": {},
   "source": [
    "### Load the data\n",
    "\n",
    "Read in the `titanic.csv` data set again."
   ]
  },
  {
   "cell_type": "code",
   "execution_count": 5,
   "metadata": {},
   "outputs": [
    {
     "data": {
      "text/html": [
       "<div>\n",
       "<style scoped>\n",
       "    .dataframe tbody tr th:only-of-type {\n",
       "        vertical-align: middle;\n",
       "    }\n",
       "\n",
       "    .dataframe tbody tr th {\n",
       "        vertical-align: top;\n",
       "    }\n",
       "\n",
       "    .dataframe thead th {\n",
       "        text-align: right;\n",
       "    }\n",
       "</style>\n",
       "<table border=\"1\" class=\"dataframe\">\n",
       "  <thead>\n",
       "    <tr style=\"text-align: right;\">\n",
       "      <th></th>\n",
       "      <th>pclass</th>\n",
       "      <th>survived</th>\n",
       "      <th>name</th>\n",
       "      <th>age</th>\n",
       "      <th>embarked</th>\n",
       "      <th>home.dest</th>\n",
       "      <th>room</th>\n",
       "      <th>ticket</th>\n",
       "      <th>boat</th>\n",
       "      <th>gender</th>\n",
       "    </tr>\n",
       "  </thead>\n",
       "  <tbody>\n",
       "    <tr>\n",
       "      <th>0</th>\n",
       "      <td>1st</td>\n",
       "      <td>1</td>\n",
       "      <td>Allen, Miss Elisabeth Walton</td>\n",
       "      <td>29.0000</td>\n",
       "      <td>Southampton</td>\n",
       "      <td>St Louis, MO</td>\n",
       "      <td>B-5</td>\n",
       "      <td>24160 L221</td>\n",
       "      <td>2</td>\n",
       "      <td>female</td>\n",
       "    </tr>\n",
       "    <tr>\n",
       "      <th>1</th>\n",
       "      <td>1st</td>\n",
       "      <td>0</td>\n",
       "      <td>Allison, Miss Helen Loraine</td>\n",
       "      <td>2.0000</td>\n",
       "      <td>Southampton</td>\n",
       "      <td>Montreal, PQ / Chesterville, ON</td>\n",
       "      <td>C26</td>\n",
       "      <td>NaN</td>\n",
       "      <td>NaN</td>\n",
       "      <td>female</td>\n",
       "    </tr>\n",
       "    <tr>\n",
       "      <th>2</th>\n",
       "      <td>1st</td>\n",
       "      <td>0</td>\n",
       "      <td>Allison, Mr Hudson Joshua Creighton</td>\n",
       "      <td>30.0000</td>\n",
       "      <td>Southampton</td>\n",
       "      <td>Montreal, PQ / Chesterville, ON</td>\n",
       "      <td>C26</td>\n",
       "      <td>NaN</td>\n",
       "      <td>-135</td>\n",
       "      <td>male</td>\n",
       "    </tr>\n",
       "    <tr>\n",
       "      <th>3</th>\n",
       "      <td>1st</td>\n",
       "      <td>0</td>\n",
       "      <td>Allison, Mrs Hudson J.C. (Bessie Waldo Daniels)</td>\n",
       "      <td>25.0000</td>\n",
       "      <td>Southampton</td>\n",
       "      <td>Montreal, PQ / Chesterville, ON</td>\n",
       "      <td>C26</td>\n",
       "      <td>NaN</td>\n",
       "      <td>NaN</td>\n",
       "      <td>female</td>\n",
       "    </tr>\n",
       "    <tr>\n",
       "      <th>4</th>\n",
       "      <td>1st</td>\n",
       "      <td>1</td>\n",
       "      <td>Allison, Master Hudson Trevor</td>\n",
       "      <td>0.9167</td>\n",
       "      <td>Southampton</td>\n",
       "      <td>Montreal, PQ / Chesterville, ON</td>\n",
       "      <td>C22</td>\n",
       "      <td>NaN</td>\n",
       "      <td>11</td>\n",
       "      <td>male</td>\n",
       "    </tr>\n",
       "    <tr>\n",
       "      <th>...</th>\n",
       "      <td>...</td>\n",
       "      <td>...</td>\n",
       "      <td>...</td>\n",
       "      <td>...</td>\n",
       "      <td>...</td>\n",
       "      <td>...</td>\n",
       "      <td>...</td>\n",
       "      <td>...</td>\n",
       "      <td>...</td>\n",
       "      <td>...</td>\n",
       "    </tr>\n",
       "    <tr>\n",
       "      <th>1308</th>\n",
       "      <td>3rd</td>\n",
       "      <td>0</td>\n",
       "      <td>Zakarian, Mr Artun</td>\n",
       "      <td>NaN</td>\n",
       "      <td>NaN</td>\n",
       "      <td>NaN</td>\n",
       "      <td>NaN</td>\n",
       "      <td>NaN</td>\n",
       "      <td>NaN</td>\n",
       "      <td>male</td>\n",
       "    </tr>\n",
       "    <tr>\n",
       "      <th>1309</th>\n",
       "      <td>3rd</td>\n",
       "      <td>0</td>\n",
       "      <td>Zakarian, Mr Maprieder</td>\n",
       "      <td>NaN</td>\n",
       "      <td>NaN</td>\n",
       "      <td>NaN</td>\n",
       "      <td>NaN</td>\n",
       "      <td>NaN</td>\n",
       "      <td>NaN</td>\n",
       "      <td>male</td>\n",
       "    </tr>\n",
       "    <tr>\n",
       "      <th>1310</th>\n",
       "      <td>3rd</td>\n",
       "      <td>0</td>\n",
       "      <td>Zenn, Mr Philip</td>\n",
       "      <td>NaN</td>\n",
       "      <td>NaN</td>\n",
       "      <td>NaN</td>\n",
       "      <td>NaN</td>\n",
       "      <td>NaN</td>\n",
       "      <td>NaN</td>\n",
       "      <td>male</td>\n",
       "    </tr>\n",
       "    <tr>\n",
       "      <th>1311</th>\n",
       "      <td>3rd</td>\n",
       "      <td>0</td>\n",
       "      <td>Zievens, Rene</td>\n",
       "      <td>NaN</td>\n",
       "      <td>NaN</td>\n",
       "      <td>NaN</td>\n",
       "      <td>NaN</td>\n",
       "      <td>NaN</td>\n",
       "      <td>NaN</td>\n",
       "      <td>female</td>\n",
       "    </tr>\n",
       "    <tr>\n",
       "      <th>1312</th>\n",
       "      <td>3rd</td>\n",
       "      <td>0</td>\n",
       "      <td>Zimmerman, Leo</td>\n",
       "      <td>NaN</td>\n",
       "      <td>NaN</td>\n",
       "      <td>NaN</td>\n",
       "      <td>NaN</td>\n",
       "      <td>NaN</td>\n",
       "      <td>NaN</td>\n",
       "      <td>male</td>\n",
       "    </tr>\n",
       "  </tbody>\n",
       "</table>\n",
       "<p>1313 rows × 10 columns</p>\n",
       "</div>"
      ],
      "text/plain": [
       "     pclass  survived                                             name  \\\n",
       "0       1st         1                     Allen, Miss Elisabeth Walton   \n",
       "1       1st         0                      Allison, Miss Helen Loraine   \n",
       "2       1st         0              Allison, Mr Hudson Joshua Creighton   \n",
       "3       1st         0  Allison, Mrs Hudson J.C. (Bessie Waldo Daniels)   \n",
       "4       1st         1                    Allison, Master Hudson Trevor   \n",
       "...     ...       ...                                              ...   \n",
       "1308    3rd         0                               Zakarian, Mr Artun   \n",
       "1309    3rd         0                           Zakarian, Mr Maprieder   \n",
       "1310    3rd         0                                  Zenn, Mr Philip   \n",
       "1311    3rd         0                                    Zievens, Rene   \n",
       "1312    3rd         0                                   Zimmerman, Leo   \n",
       "\n",
       "          age     embarked                        home.dest room      ticket  \\\n",
       "0     29.0000  Southampton                     St Louis, MO  B-5  24160 L221   \n",
       "1      2.0000  Southampton  Montreal, PQ / Chesterville, ON  C26         NaN   \n",
       "2     30.0000  Southampton  Montreal, PQ / Chesterville, ON  C26         NaN   \n",
       "3     25.0000  Southampton  Montreal, PQ / Chesterville, ON  C26         NaN   \n",
       "4      0.9167  Southampton  Montreal, PQ / Chesterville, ON  C22         NaN   \n",
       "...       ...          ...                              ...  ...         ...   \n",
       "1308      NaN          NaN                              NaN  NaN         NaN   \n",
       "1309      NaN          NaN                              NaN  NaN         NaN   \n",
       "1310      NaN          NaN                              NaN  NaN         NaN   \n",
       "1311      NaN          NaN                              NaN  NaN         NaN   \n",
       "1312      NaN          NaN                              NaN  NaN         NaN   \n",
       "\n",
       "      boat  gender  \n",
       "0        2  female  \n",
       "1      NaN  female  \n",
       "2     -135    male  \n",
       "3      NaN  female  \n",
       "4       11    male  \n",
       "...    ...     ...  \n",
       "1308   NaN    male  \n",
       "1309   NaN    male  \n",
       "1310   NaN    male  \n",
       "1311   NaN  female  \n",
       "1312   NaN    male  \n",
       "\n",
       "[1313 rows x 10 columns]"
      ]
     },
     "execution_count": 5,
     "metadata": {},
     "output_type": "execute_result"
    }
   ],
   "source": [
    "# Load titanic.csv\n",
    "df = pd.read_csv('titanic.csv')\n",
    "df"
   ]
  },
  {
   "cell_type": "markdown",
   "metadata": {},
   "source": [
    "The first thing we need to do is code the pclass and gender variables numerically. Let's use the following scheme:\n",
    "- pclass: 1,2,3\n",
    "- gender: 0=male, 1=female, and let's call the column called \"female\" to remind us which is which"
   ]
  },
  {
   "cell_type": "code",
   "execution_count": 6,
   "metadata": {},
   "outputs": [
    {
     "data": {
      "text/html": [
       "<div>\n",
       "<style scoped>\n",
       "    .dataframe tbody tr th:only-of-type {\n",
       "        vertical-align: middle;\n",
       "    }\n",
       "\n",
       "    .dataframe tbody tr th {\n",
       "        vertical-align: top;\n",
       "    }\n",
       "\n",
       "    .dataframe thead th {\n",
       "        text-align: right;\n",
       "    }\n",
       "</style>\n",
       "<table border=\"1\" class=\"dataframe\">\n",
       "  <thead>\n",
       "    <tr style=\"text-align: right;\">\n",
       "      <th></th>\n",
       "      <th>pclass</th>\n",
       "      <th>survived</th>\n",
       "      <th>name</th>\n",
       "      <th>age</th>\n",
       "      <th>embarked</th>\n",
       "      <th>home.dest</th>\n",
       "      <th>room</th>\n",
       "      <th>ticket</th>\n",
       "      <th>boat</th>\n",
       "      <th>gender</th>\n",
       "      <th>female</th>\n",
       "    </tr>\n",
       "  </thead>\n",
       "  <tbody>\n",
       "    <tr>\n",
       "      <th>0</th>\n",
       "      <td>1</td>\n",
       "      <td>1</td>\n",
       "      <td>Allen, Miss Elisabeth Walton</td>\n",
       "      <td>29.0</td>\n",
       "      <td>Southampton</td>\n",
       "      <td>St Louis, MO</td>\n",
       "      <td>B-5</td>\n",
       "      <td>24160 L221</td>\n",
       "      <td>2</td>\n",
       "      <td>female</td>\n",
       "      <td>1</td>\n",
       "    </tr>\n",
       "    <tr>\n",
       "      <th>1</th>\n",
       "      <td>1</td>\n",
       "      <td>0</td>\n",
       "      <td>Allison, Miss Helen Loraine</td>\n",
       "      <td>2.0</td>\n",
       "      <td>Southampton</td>\n",
       "      <td>Montreal, PQ / Chesterville, ON</td>\n",
       "      <td>C26</td>\n",
       "      <td>NaN</td>\n",
       "      <td>NaN</td>\n",
       "      <td>female</td>\n",
       "      <td>1</td>\n",
       "    </tr>\n",
       "    <tr>\n",
       "      <th>2</th>\n",
       "      <td>1</td>\n",
       "      <td>0</td>\n",
       "      <td>Allison, Mr Hudson Joshua Creighton</td>\n",
       "      <td>30.0</td>\n",
       "      <td>Southampton</td>\n",
       "      <td>Montreal, PQ / Chesterville, ON</td>\n",
       "      <td>C26</td>\n",
       "      <td>NaN</td>\n",
       "      <td>-135</td>\n",
       "      <td>male</td>\n",
       "      <td>0</td>\n",
       "    </tr>\n",
       "  </tbody>\n",
       "</table>\n",
       "</div>"
      ],
      "text/plain": [
       "   pclass  survived                                 name   age     embarked  \\\n",
       "0       1         1         Allen, Miss Elisabeth Walton  29.0  Southampton   \n",
       "1       1         0          Allison, Miss Helen Loraine   2.0  Southampton   \n",
       "2       1         0  Allison, Mr Hudson Joshua Creighton  30.0  Southampton   \n",
       "\n",
       "                         home.dest room      ticket  boat  gender  female  \n",
       "0                     St Louis, MO  B-5  24160 L221     2  female       1  \n",
       "1  Montreal, PQ / Chesterville, ON  C26         NaN   NaN  female       1  \n",
       "2  Montreal, PQ / Chesterville, ON  C26         NaN  -135    male       0  "
      ]
     },
     "execution_count": 6,
     "metadata": {},
     "output_type": "execute_result"
    }
   ],
   "source": [
    "# recode the pclass and gender variables so they are numeric\n",
    "df['pclass'] = df.pclass.replace({'1st': 1, '2nd': 2, '3rd': 3})\n",
    "df['female'] = df.gender.replace({'male': 0, 'female': 1})\n",
    "df.head(3)"
   ]
  },
  {
   "cell_type": "markdown",
   "metadata": {},
   "source": [
    "### 1. Exploratory data analysis"
   ]
  },
  {
   "cell_type": "code",
   "execution_count": 7,
   "metadata": {},
   "outputs": [
    {
     "data": {
      "text/plain": [
       "survived\n",
       "0    864\n",
       "1    449\n",
       "Name: count, dtype: int64"
      ]
     },
     "execution_count": 7,
     "metadata": {},
     "output_type": "execute_result"
    }
   ],
   "source": [
    "df.survived.value_counts()"
   ]
  },
  {
   "cell_type": "code",
   "execution_count": 8,
   "metadata": {},
   "outputs": [
    {
     "name": "stdout",
     "output_type": "stream",
     "text": [
      "34.1964965727342\n",
      "Chance of survival is about one in three\n"
     ]
    }
   ],
   "source": [
    "# What is the chance of survival?\n",
    "print(449 / (864 + 449) * 100)\n",
    "print(\"Chance of survival is about one in three\")"
   ]
  },
  {
   "cell_type": "code",
   "execution_count": 9,
   "metadata": {},
   "outputs": [
    {
     "name": "stdout",
     "output_type": "stream",
     "text": [
      "0.5196759259259259\n",
      "Odds of survival are roughly one to two\n"
     ]
    }
   ],
   "source": [
    "# What are the odds of survival?\n",
    "print(449 / 864)\n",
    "print(\"Odds of survival are roughly one to two\")"
   ]
  },
  {
   "cell_type": "markdown",
   "metadata": {},
   "source": [
    "First, let's do some **descriptive stats**. Our aim in this notebook is to determine what factors impact surival. So let's start by looking at a few pivot tables of `survived` versus factors like `gender` and `pclass`."
   ]
  },
  {
   "cell_type": "code",
   "execution_count": 10,
   "metadata": {},
   "outputs": [
    {
     "data": {
      "text/html": [
       "<div>\n",
       "<style scoped>\n",
       "    .dataframe tbody tr th:only-of-type {\n",
       "        vertical-align: middle;\n",
       "    }\n",
       "\n",
       "    .dataframe tbody tr th {\n",
       "        vertical-align: top;\n",
       "    }\n",
       "\n",
       "    .dataframe thead th {\n",
       "        text-align: right;\n",
       "    }\n",
       "</style>\n",
       "<table border=\"1\" class=\"dataframe\">\n",
       "  <thead>\n",
       "    <tr style=\"text-align: right;\">\n",
       "      <th>female</th>\n",
       "      <th>0</th>\n",
       "      <th>1</th>\n",
       "    </tr>\n",
       "    <tr>\n",
       "      <th>survived</th>\n",
       "      <th></th>\n",
       "      <th></th>\n",
       "    </tr>\n",
       "  </thead>\n",
       "  <tbody>\n",
       "    <tr>\n",
       "      <th>0</th>\n",
       "      <td>708</td>\n",
       "      <td>156</td>\n",
       "    </tr>\n",
       "    <tr>\n",
       "      <th>1</th>\n",
       "      <td>142</td>\n",
       "      <td>307</td>\n",
       "    </tr>\n",
       "  </tbody>\n",
       "</table>\n",
       "</div>"
      ],
      "text/plain": [
       "female      0    1\n",
       "survived          \n",
       "0         708  156\n",
       "1         142  307"
      ]
     },
     "metadata": {},
     "output_type": "display_data"
    },
    {
     "name": "stdout",
     "output_type": "stream",
     "text": [
      "Percent chance of survival for women vs men\n"
     ]
    },
    {
     "data": {
      "text/html": [
       "<div>\n",
       "<style scoped>\n",
       "    .dataframe tbody tr th:only-of-type {\n",
       "        vertical-align: middle;\n",
       "    }\n",
       "\n",
       "    .dataframe tbody tr th {\n",
       "        vertical-align: top;\n",
       "    }\n",
       "\n",
       "    .dataframe thead th {\n",
       "        text-align: right;\n",
       "    }\n",
       "</style>\n",
       "<table border=\"1\" class=\"dataframe\">\n",
       "  <thead>\n",
       "    <tr style=\"text-align: right;\">\n",
       "      <th></th>\n",
       "      <th>Percent Survived</th>\n",
       "    </tr>\n",
       "    <tr>\n",
       "      <th>female</th>\n",
       "      <th></th>\n",
       "    </tr>\n",
       "  </thead>\n",
       "  <tbody>\n",
       "    <tr>\n",
       "      <th>0</th>\n",
       "      <td>0.167059</td>\n",
       "    </tr>\n",
       "    <tr>\n",
       "      <th>1</th>\n",
       "      <td>0.663067</td>\n",
       "    </tr>\n",
       "  </tbody>\n",
       "</table>\n",
       "</div>"
      ],
      "text/plain": [
       "        Percent Survived\n",
       "female                  \n",
       "0               0.167059\n",
       "1               0.663067"
      ]
     },
     "metadata": {},
     "output_type": "display_data"
    },
    {
     "name": "stdout",
     "output_type": "stream",
     "text": [
      "Men had only about a 17 percent chance of survival\n",
      "Women had a 66 percent chance of surviving the Titanic.\n",
      "\n",
      "Odds of survival for women vs men\n"
     ]
    },
    {
     "data": {
      "text/html": [
       "<div>\n",
       "<style scoped>\n",
       "    .dataframe tbody tr th:only-of-type {\n",
       "        vertical-align: middle;\n",
       "    }\n",
       "\n",
       "    .dataframe tbody tr th {\n",
       "        vertical-align: top;\n",
       "    }\n",
       "\n",
       "    .dataframe thead th {\n",
       "        text-align: right;\n",
       "    }\n",
       "</style>\n",
       "<table border=\"1\" class=\"dataframe\">\n",
       "  <thead>\n",
       "    <tr style=\"text-align: right;\">\n",
       "      <th></th>\n",
       "      <th>Odds Survived</th>\n",
       "    </tr>\n",
       "    <tr>\n",
       "      <th>female</th>\n",
       "      <th></th>\n",
       "    </tr>\n",
       "  </thead>\n",
       "  <tbody>\n",
       "    <tr>\n",
       "      <th>0</th>\n",
       "      <td>0.200565</td>\n",
       "    </tr>\n",
       "    <tr>\n",
       "      <th>1</th>\n",
       "      <td>1.967949</td>\n",
       "    </tr>\n",
       "  </tbody>\n",
       "</table>\n",
       "</div>"
      ],
      "text/plain": [
       "        Odds Survived\n",
       "female               \n",
       "0            0.200565\n",
       "1            1.967949"
      ]
     },
     "metadata": {},
     "output_type": "display_data"
    },
    {
     "name": "stdout",
     "output_type": "stream",
     "text": [
      "Odds of a man surviving are 1 to 5\n",
      "Odds of a woman surviving are approximately 2 to 1\n"
     ]
    }
   ],
   "source": [
    "# First, let's do some descriptive stats\n",
    "# \n",
    "# How many men and women are travelling on the titanic?\n",
    "# What share of each survived? What were the odds of survival for each?\n",
    "piv = df.pivot_table(index='survived', columns='female', aggfunc='count', values='name')\n",
    "display(piv)\n",
    "\n",
    "print(\"Percent chance of survival for women vs men\")\n",
    "display(pd.DataFrame(piv.iloc[1,:] / piv.sum(), columns=['Percent Survived']))\n",
    "print(\"Men had only about a 17 percent chance of survival\")\n",
    "print(\"Women had a 66 percent chance of surviving the Titanic.\")\n",
    "\n",
    "\n",
    "print(\"\\nOdds of survival for women vs men\")\n",
    "display(pd.DataFrame(piv.iloc[1,:] / piv.iloc[0,:], columns=['Odds Survived']))\n",
    "print(\"Odds of a man surviving are 1 to 5\")\n",
    "print(\"Odds of a woman surviving are approximately 2 to 1\")"
   ]
  },
  {
   "cell_type": "code",
   "execution_count": 14,
   "metadata": {},
   "outputs": [
    {
     "data": {
      "text/html": [
       "<div>\n",
       "<style scoped>\n",
       "    .dataframe tbody tr th:only-of-type {\n",
       "        vertical-align: middle;\n",
       "    }\n",
       "\n",
       "    .dataframe tbody tr th {\n",
       "        vertical-align: top;\n",
       "    }\n",
       "\n",
       "    .dataframe thead th {\n",
       "        text-align: right;\n",
       "    }\n",
       "</style>\n",
       "<table border=\"1\" class=\"dataframe\">\n",
       "  <thead>\n",
       "    <tr style=\"text-align: right;\">\n",
       "      <th>pclass</th>\n",
       "      <th>1</th>\n",
       "      <th>2</th>\n",
       "      <th>3</th>\n",
       "    </tr>\n",
       "    <tr>\n",
       "      <th>survived</th>\n",
       "      <th></th>\n",
       "      <th></th>\n",
       "      <th></th>\n",
       "    </tr>\n",
       "  </thead>\n",
       "  <tbody>\n",
       "    <tr>\n",
       "      <th>0</th>\n",
       "      <td>129</td>\n",
       "      <td>161</td>\n",
       "      <td>574</td>\n",
       "    </tr>\n",
       "    <tr>\n",
       "      <th>1</th>\n",
       "      <td>193</td>\n",
       "      <td>119</td>\n",
       "      <td>137</td>\n",
       "    </tr>\n",
       "  </tbody>\n",
       "</table>\n",
       "</div>"
      ],
      "text/plain": [
       "pclass      1    2    3\n",
       "survived               \n",
       "0         129  161  574\n",
       "1         193  119  137"
      ]
     },
     "metadata": {},
     "output_type": "display_data"
    },
    {
     "name": "stdout",
     "output_type": "stream",
     "text": [
      "Percent chance of survival for different classes\n"
     ]
    },
    {
     "data": {
      "text/html": [
       "<div>\n",
       "<style scoped>\n",
       "    .dataframe tbody tr th:only-of-type {\n",
       "        vertical-align: middle;\n",
       "    }\n",
       "\n",
       "    .dataframe tbody tr th {\n",
       "        vertical-align: top;\n",
       "    }\n",
       "\n",
       "    .dataframe thead th {\n",
       "        text-align: right;\n",
       "    }\n",
       "</style>\n",
       "<table border=\"1\" class=\"dataframe\">\n",
       "  <thead>\n",
       "    <tr style=\"text-align: right;\">\n",
       "      <th></th>\n",
       "      <th>Percent Survived</th>\n",
       "    </tr>\n",
       "    <tr>\n",
       "      <th>pclass</th>\n",
       "      <th></th>\n",
       "    </tr>\n",
       "  </thead>\n",
       "  <tbody>\n",
       "    <tr>\n",
       "      <th>1</th>\n",
       "      <td>0.599379</td>\n",
       "    </tr>\n",
       "    <tr>\n",
       "      <th>2</th>\n",
       "      <td>0.425000</td>\n",
       "    </tr>\n",
       "    <tr>\n",
       "      <th>3</th>\n",
       "      <td>0.192686</td>\n",
       "    </tr>\n",
       "  </tbody>\n",
       "</table>\n",
       "</div>"
      ],
      "text/plain": [
       "        Percent Survived\n",
       "pclass                  \n",
       "1               0.599379\n",
       "2               0.425000\n",
       "3               0.192686"
      ]
     },
     "metadata": {},
     "output_type": "display_data"
    },
    {
     "name": "stdout",
     "output_type": "stream",
     "text": [
      "\n",
      "Odds of survival for different classes\n"
     ]
    },
    {
     "data": {
      "text/html": [
       "<div>\n",
       "<style scoped>\n",
       "    .dataframe tbody tr th:only-of-type {\n",
       "        vertical-align: middle;\n",
       "    }\n",
       "\n",
       "    .dataframe tbody tr th {\n",
       "        vertical-align: top;\n",
       "    }\n",
       "\n",
       "    .dataframe thead th {\n",
       "        text-align: right;\n",
       "    }\n",
       "</style>\n",
       "<table border=\"1\" class=\"dataframe\">\n",
       "  <thead>\n",
       "    <tr style=\"text-align: right;\">\n",
       "      <th></th>\n",
       "      <th>Odds Survived</th>\n",
       "    </tr>\n",
       "    <tr>\n",
       "      <th>pclass</th>\n",
       "      <th></th>\n",
       "    </tr>\n",
       "  </thead>\n",
       "  <tbody>\n",
       "    <tr>\n",
       "      <th>1</th>\n",
       "      <td>1.496124</td>\n",
       "    </tr>\n",
       "    <tr>\n",
       "      <th>2</th>\n",
       "      <td>0.739130</td>\n",
       "    </tr>\n",
       "    <tr>\n",
       "      <th>3</th>\n",
       "      <td>0.238676</td>\n",
       "    </tr>\n",
       "  </tbody>\n",
       "</table>\n",
       "</div>"
      ],
      "text/plain": [
       "        Odds Survived\n",
       "pclass               \n",
       "1            1.496124\n",
       "2            0.739130\n",
       "3            0.238676"
      ]
     },
     "metadata": {},
     "output_type": "display_data"
    }
   ],
   "source": [
    "piv = df.pivot_table(index='survived', columns='pclass', aggfunc='count', values='name')\n",
    "display(piv)\n",
    "print(\"Percent chance of survival for different classes\")\n",
    "display(pd.DataFrame(piv.iloc[1,:] / piv.sum(), columns=['Percent Survived']))\n",
    "print(\"\\nOdds of survival for different classes\")\n",
    "display(pd.DataFrame(piv.iloc[1,:] / piv.iloc[0,:], columns=['Odds Survived']))\n"
   ]
  },
  {
   "cell_type": "code",
   "execution_count": 11,
   "metadata": {},
   "outputs": [
    {
     "name": "stdout",
     "output_type": "stream",
     "text": [
      "How many people are travelling in each class?\n"
     ]
    },
    {
     "data": {
      "text/html": [
       "<div>\n",
       "<style scoped>\n",
       "    .dataframe tbody tr th:only-of-type {\n",
       "        vertical-align: middle;\n",
       "    }\n",
       "\n",
       "    .dataframe tbody tr th {\n",
       "        vertical-align: top;\n",
       "    }\n",
       "\n",
       "    .dataframe thead th {\n",
       "        text-align: right;\n",
       "    }\n",
       "</style>\n",
       "<table border=\"1\" class=\"dataframe\">\n",
       "  <thead>\n",
       "    <tr style=\"text-align: right;\">\n",
       "      <th>survived</th>\n",
       "      <th>0</th>\n",
       "      <th>1</th>\n",
       "      <th>All</th>\n",
       "    </tr>\n",
       "    <tr>\n",
       "      <th>pclass</th>\n",
       "      <th></th>\n",
       "      <th></th>\n",
       "      <th></th>\n",
       "    </tr>\n",
       "  </thead>\n",
       "  <tbody>\n",
       "    <tr>\n",
       "      <th>1</th>\n",
       "      <td>129</td>\n",
       "      <td>193</td>\n",
       "      <td>322</td>\n",
       "    </tr>\n",
       "    <tr>\n",
       "      <th>2</th>\n",
       "      <td>161</td>\n",
       "      <td>119</td>\n",
       "      <td>280</td>\n",
       "    </tr>\n",
       "    <tr>\n",
       "      <th>3</th>\n",
       "      <td>574</td>\n",
       "      <td>137</td>\n",
       "      <td>711</td>\n",
       "    </tr>\n",
       "    <tr>\n",
       "      <th>All</th>\n",
       "      <td>864</td>\n",
       "      <td>449</td>\n",
       "      <td>1313</td>\n",
       "    </tr>\n",
       "  </tbody>\n",
       "</table>\n",
       "</div>"
      ],
      "text/plain": [
       "survived    0    1   All\n",
       "pclass                  \n",
       "1         129  193   322\n",
       "2         161  119   280\n",
       "3         574  137   711\n",
       "All       864  449  1313"
      ]
     },
     "metadata": {},
     "output_type": "display_data"
    },
    {
     "data": {
      "text/html": [
       "<div>\n",
       "<style scoped>\n",
       "    .dataframe tbody tr th:only-of-type {\n",
       "        vertical-align: middle;\n",
       "    }\n",
       "\n",
       "    .dataframe tbody tr th {\n",
       "        vertical-align: top;\n",
       "    }\n",
       "\n",
       "    .dataframe thead th {\n",
       "        text-align: right;\n",
       "    }\n",
       "</style>\n",
       "<table border=\"1\" class=\"dataframe\">\n",
       "  <thead>\n",
       "    <tr style=\"text-align: right;\">\n",
       "      <th>survived</th>\n",
       "      <th>0</th>\n",
       "      <th>1</th>\n",
       "      <th>All</th>\n",
       "    </tr>\n",
       "    <tr>\n",
       "      <th>pclass</th>\n",
       "      <th></th>\n",
       "      <th></th>\n",
       "      <th></th>\n",
       "    </tr>\n",
       "  </thead>\n",
       "  <tbody>\n",
       "    <tr>\n",
       "      <th>1</th>\n",
       "      <td>0.15</td>\n",
       "      <td>0.43</td>\n",
       "      <td>0.25</td>\n",
       "    </tr>\n",
       "    <tr>\n",
       "      <th>2</th>\n",
       "      <td>0.19</td>\n",
       "      <td>0.27</td>\n",
       "      <td>0.21</td>\n",
       "    </tr>\n",
       "    <tr>\n",
       "      <th>3</th>\n",
       "      <td>0.66</td>\n",
       "      <td>0.31</td>\n",
       "      <td>0.54</td>\n",
       "    </tr>\n",
       "  </tbody>\n",
       "</table>\n",
       "</div>"
      ],
      "text/plain": [
       "survived     0     1   All\n",
       "pclass                    \n",
       "1         0.15  0.43  0.25\n",
       "2         0.19  0.27  0.21\n",
       "3         0.66  0.31  0.54"
      ]
     },
     "metadata": {},
     "output_type": "display_data"
    }
   ],
   "source": [
    "print(\"How many people are travelling in each class?\")\n",
    "display(pd.crosstab(df.pclass, df.survived, margins=True))\n",
    "display(pd.crosstab(df.pclass, df.survived, margins=True, normalize='columns').round(2))"
   ]
  },
  {
   "cell_type": "markdown",
   "metadata": {},
   "source": [
    "### 2. Logistic regression with one variable at a time\n",
    "\n",
    "First, do a logistic regression of the `female` variable alone to predict the probability of survival. Below is some code that will help you plot the result."
   ]
  },
  {
   "cell_type": "markdown",
   "metadata": {},
   "source": [
    "**Step 1: Run a logistic regression on one variable and see the summary of the output**\n"
   ]
  },
  {
   "cell_type": "code",
   "execution_count": 11,
   "metadata": {},
   "outputs": [
    {
     "name": "stdout",
     "output_type": "stream",
     "text": [
      "\n",
      "Call:\n",
      "glm(formula = survived ~ female, family = \"binomial\", data = df)\n",
      "\n",
      "Deviance Residuals: \n",
      "    Min       1Q   Median       3Q      Max  \n",
      "-1.4750  -0.6046  -0.6046   0.9065   1.8918  \n",
      "\n",
      "Coefficients:\n",
      "            Estimate Std. Error z value Pr(>|z|)    \n",
      "(Intercept) -1.60662    0.09195  -17.47   <2e-16 ***\n",
      "female       2.28361    0.13462   16.96   <2e-16 ***\n",
      "---\n",
      "Signif. codes:  0 ‘***’ 0.001 ‘**’ 0.01 ‘*’ 0.05 ‘.’ 0.1 ‘ ’ 1\n",
      "\n",
      "(Dispersion parameter for binomial family taken to be 1)\n",
      "\n",
      "    Null deviance: 1686.8  on 1312  degrees of freedom\n",
      "Residual deviance: 1358.7  on 1311  degrees of freedom\n",
      "AIC: 1362.7\n",
      "\n",
      "Number of Fisher Scoring iterations: 4\n",
      "\n"
     ]
    }
   ],
   "source": [
    "%%R -i df\n",
    "logistic <- glm(survived ~ female, data=df, family=\"binomial\")\n",
    "summary(logistic)"
   ]
  },
  {
   "cell_type": "code",
   "execution_count": 12,
   "metadata": {},
   "outputs": [
    {
     "name": "stdout",
     "output_type": "stream",
     "text": [
      " McFadden \n",
      "0.1944779 \n"
     ]
    }
   ],
   "source": [
    "%%R\n",
    "\n",
    "# https://search.r-project.org/CRAN/refmans/DescTools/html/PseudoR2.html\n",
    "# https://stats.oarc.ucla.edu/other/mult-pkg/faq/general/faq-what-are-pseudo-r-squareds/\n",
    "PseudoR2(logistic, which=\"McFadden\")"
   ]
  },
  {
   "attachments": {},
   "cell_type": "markdown",
   "metadata": {},
   "source": [
    "Looks like gender does provide us some information about whether or not someone will survive. We'll come back to the outputs of the logistic regression. Let's make some predictions using this very simple model first."
   ]
  },
  {
   "cell_type": "markdown",
   "metadata": {},
   "source": [
    "**Step 2: analyze the dataframe with predicted values**\n"
   ]
  },
  {
   "cell_type": "code",
   "execution_count": 13,
   "metadata": {},
   "outputs": [],
   "source": [
    "%%R -o df\n",
    "\n",
    "df <- df %>% mutate(\n",
    "    prediction = exp(predict(logistic))\n",
    ")"
   ]
  },
  {
   "cell_type": "code",
   "execution_count": 14,
   "metadata": {},
   "outputs": [
    {
     "data": {
      "text/html": [
       "<div>\n",
       "<style scoped>\n",
       "    .dataframe tbody tr th:only-of-type {\n",
       "        vertical-align: middle;\n",
       "    }\n",
       "\n",
       "    .dataframe tbody tr th {\n",
       "        vertical-align: top;\n",
       "    }\n",
       "\n",
       "    .dataframe thead th {\n",
       "        text-align: right;\n",
       "    }\n",
       "</style>\n",
       "<table border=\"1\" class=\"dataframe\">\n",
       "  <thead>\n",
       "    <tr style=\"text-align: right;\">\n",
       "      <th></th>\n",
       "      <th>pclass</th>\n",
       "      <th>survived</th>\n",
       "      <th>name</th>\n",
       "      <th>age</th>\n",
       "      <th>embarked</th>\n",
       "      <th>home.dest</th>\n",
       "      <th>room</th>\n",
       "      <th>ticket</th>\n",
       "      <th>boat</th>\n",
       "      <th>gender</th>\n",
       "      <th>female</th>\n",
       "      <th>prediction</th>\n",
       "    </tr>\n",
       "  </thead>\n",
       "  <tbody>\n",
       "    <tr>\n",
       "      <th>0</th>\n",
       "      <td>1</td>\n",
       "      <td>1</td>\n",
       "      <td>Allen, Miss Elisabeth Walton</td>\n",
       "      <td>29.0000</td>\n",
       "      <td>Southampton</td>\n",
       "      <td>St Louis, MO</td>\n",
       "      <td>B-5</td>\n",
       "      <td>24160 L221</td>\n",
       "      <td>2</td>\n",
       "      <td>female</td>\n",
       "      <td>1</td>\n",
       "      <td>1.967949</td>\n",
       "    </tr>\n",
       "    <tr>\n",
       "      <th>1</th>\n",
       "      <td>1</td>\n",
       "      <td>0</td>\n",
       "      <td>Allison, Miss Helen Loraine</td>\n",
       "      <td>2.0000</td>\n",
       "      <td>Southampton</td>\n",
       "      <td>Montreal, PQ / Chesterville, ON</td>\n",
       "      <td>C26</td>\n",
       "      <td>None</td>\n",
       "      <td>None</td>\n",
       "      <td>female</td>\n",
       "      <td>1</td>\n",
       "      <td>1.967949</td>\n",
       "    </tr>\n",
       "    <tr>\n",
       "      <th>2</th>\n",
       "      <td>1</td>\n",
       "      <td>0</td>\n",
       "      <td>Allison, Mr Hudson Joshua Creighton</td>\n",
       "      <td>30.0000</td>\n",
       "      <td>Southampton</td>\n",
       "      <td>Montreal, PQ / Chesterville, ON</td>\n",
       "      <td>C26</td>\n",
       "      <td>None</td>\n",
       "      <td>-135</td>\n",
       "      <td>male</td>\n",
       "      <td>0</td>\n",
       "      <td>0.200565</td>\n",
       "    </tr>\n",
       "    <tr>\n",
       "      <th>3</th>\n",
       "      <td>1</td>\n",
       "      <td>0</td>\n",
       "      <td>Allison, Mrs Hudson J.C. (Bessie Waldo Daniels)</td>\n",
       "      <td>25.0000</td>\n",
       "      <td>Southampton</td>\n",
       "      <td>Montreal, PQ / Chesterville, ON</td>\n",
       "      <td>C26</td>\n",
       "      <td>None</td>\n",
       "      <td>None</td>\n",
       "      <td>female</td>\n",
       "      <td>1</td>\n",
       "      <td>1.967949</td>\n",
       "    </tr>\n",
       "    <tr>\n",
       "      <th>4</th>\n",
       "      <td>1</td>\n",
       "      <td>1</td>\n",
       "      <td>Allison, Master Hudson Trevor</td>\n",
       "      <td>0.9167</td>\n",
       "      <td>Southampton</td>\n",
       "      <td>Montreal, PQ / Chesterville, ON</td>\n",
       "      <td>C22</td>\n",
       "      <td>None</td>\n",
       "      <td>11</td>\n",
       "      <td>male</td>\n",
       "      <td>0</td>\n",
       "      <td>0.200565</td>\n",
       "    </tr>\n",
       "    <tr>\n",
       "      <th>...</th>\n",
       "      <td>...</td>\n",
       "      <td>...</td>\n",
       "      <td>...</td>\n",
       "      <td>...</td>\n",
       "      <td>...</td>\n",
       "      <td>...</td>\n",
       "      <td>...</td>\n",
       "      <td>...</td>\n",
       "      <td>...</td>\n",
       "      <td>...</td>\n",
       "      <td>...</td>\n",
       "      <td>...</td>\n",
       "    </tr>\n",
       "    <tr>\n",
       "      <th>1308</th>\n",
       "      <td>3</td>\n",
       "      <td>0</td>\n",
       "      <td>Zakarian, Mr Artun</td>\n",
       "      <td>NaN</td>\n",
       "      <td>None</td>\n",
       "      <td>None</td>\n",
       "      <td>None</td>\n",
       "      <td>None</td>\n",
       "      <td>None</td>\n",
       "      <td>male</td>\n",
       "      <td>0</td>\n",
       "      <td>0.200565</td>\n",
       "    </tr>\n",
       "    <tr>\n",
       "      <th>1309</th>\n",
       "      <td>3</td>\n",
       "      <td>0</td>\n",
       "      <td>Zakarian, Mr Maprieder</td>\n",
       "      <td>NaN</td>\n",
       "      <td>None</td>\n",
       "      <td>None</td>\n",
       "      <td>None</td>\n",
       "      <td>None</td>\n",
       "      <td>None</td>\n",
       "      <td>male</td>\n",
       "      <td>0</td>\n",
       "      <td>0.200565</td>\n",
       "    </tr>\n",
       "    <tr>\n",
       "      <th>1310</th>\n",
       "      <td>3</td>\n",
       "      <td>0</td>\n",
       "      <td>Zenn, Mr Philip</td>\n",
       "      <td>NaN</td>\n",
       "      <td>None</td>\n",
       "      <td>None</td>\n",
       "      <td>None</td>\n",
       "      <td>None</td>\n",
       "      <td>None</td>\n",
       "      <td>male</td>\n",
       "      <td>0</td>\n",
       "      <td>0.200565</td>\n",
       "    </tr>\n",
       "    <tr>\n",
       "      <th>1311</th>\n",
       "      <td>3</td>\n",
       "      <td>0</td>\n",
       "      <td>Zievens, Rene</td>\n",
       "      <td>NaN</td>\n",
       "      <td>None</td>\n",
       "      <td>None</td>\n",
       "      <td>None</td>\n",
       "      <td>None</td>\n",
       "      <td>None</td>\n",
       "      <td>female</td>\n",
       "      <td>1</td>\n",
       "      <td>1.967949</td>\n",
       "    </tr>\n",
       "    <tr>\n",
       "      <th>1312</th>\n",
       "      <td>3</td>\n",
       "      <td>0</td>\n",
       "      <td>Zimmerman, Leo</td>\n",
       "      <td>NaN</td>\n",
       "      <td>None</td>\n",
       "      <td>None</td>\n",
       "      <td>None</td>\n",
       "      <td>None</td>\n",
       "      <td>None</td>\n",
       "      <td>male</td>\n",
       "      <td>0</td>\n",
       "      <td>0.200565</td>\n",
       "    </tr>\n",
       "  </tbody>\n",
       "</table>\n",
       "<p>1313 rows × 12 columns</p>\n",
       "</div>"
      ],
      "text/plain": [
       "      pclass  survived                                             name   \n",
       "0          1         1                     Allen, Miss Elisabeth Walton  \\\n",
       "1          1         0                      Allison, Miss Helen Loraine   \n",
       "2          1         0              Allison, Mr Hudson Joshua Creighton   \n",
       "3          1         0  Allison, Mrs Hudson J.C. (Bessie Waldo Daniels)   \n",
       "4          1         1                    Allison, Master Hudson Trevor   \n",
       "...      ...       ...                                              ...   \n",
       "1308       3         0                               Zakarian, Mr Artun   \n",
       "1309       3         0                           Zakarian, Mr Maprieder   \n",
       "1310       3         0                                  Zenn, Mr Philip   \n",
       "1311       3         0                                    Zievens, Rene   \n",
       "1312       3         0                                   Zimmerman, Leo   \n",
       "\n",
       "          age     embarked                        home.dest  room      ticket   \n",
       "0     29.0000  Southampton                     St Louis, MO   B-5  24160 L221  \\\n",
       "1      2.0000  Southampton  Montreal, PQ / Chesterville, ON   C26        None   \n",
       "2     30.0000  Southampton  Montreal, PQ / Chesterville, ON   C26        None   \n",
       "3     25.0000  Southampton  Montreal, PQ / Chesterville, ON   C26        None   \n",
       "4      0.9167  Southampton  Montreal, PQ / Chesterville, ON   C22        None   \n",
       "...       ...          ...                              ...   ...         ...   \n",
       "1308      NaN         None                             None  None        None   \n",
       "1309      NaN         None                             None  None        None   \n",
       "1310      NaN         None                             None  None        None   \n",
       "1311      NaN         None                             None  None        None   \n",
       "1312      NaN         None                             None  None        None   \n",
       "\n",
       "      boat  gender  female  prediction  \n",
       "0        2  female       1    1.967949  \n",
       "1     None  female       1    1.967949  \n",
       "2     -135    male       0    0.200565  \n",
       "3     None  female       1    1.967949  \n",
       "4       11    male       0    0.200565  \n",
       "...    ...     ...     ...         ...  \n",
       "1308  None    male       0    0.200565  \n",
       "1309  None    male       0    0.200565  \n",
       "1310  None    male       0    0.200565  \n",
       "1311  None  female       1    1.967949  \n",
       "1312  None    male       0    0.200565  \n",
       "\n",
       "[1313 rows x 12 columns]"
      ]
     },
     "execution_count": 14,
     "metadata": {},
     "output_type": "execute_result"
    }
   ],
   "source": [
    "df"
   ]
  },
  {
   "cell_type": "markdown",
   "metadata": {},
   "source": [
    "Hmm...interesting. There are only two possible outcomes for the prediction (which in the case of logistic regression is the chance that someone will survive). "
   ]
  },
  {
   "cell_type": "code",
   "execution_count": 15,
   "metadata": {},
   "outputs": [
    {
     "data": {
      "text/plain": [
       "array([1.96794872, 0.20056497])"
      ]
     },
     "execution_count": 15,
     "metadata": {},
     "output_type": "execute_result"
    }
   ],
   "source": [
    "odds = df.prediction.unique()\n",
    "odds"
   ]
  },
  {
   "cell_type": "code",
   "execution_count": 16,
   "metadata": {},
   "outputs": [
    {
     "data": {
      "text/plain": [
       "array([0.66, 0.17])"
      ]
     },
     "execution_count": 16,
     "metadata": {},
     "output_type": "execute_result"
    }
   ],
   "source": [
    "probabilities = odds / (1 + odds)\n",
    "probabilities.round(2)"
   ]
  },
  {
   "cell_type": "markdown",
   "metadata": {},
   "source": [
    "That makes sense though. The only thing this model considers is whether or not someone is female. On that basis it can only make two possible predictions.\n",
    "\n",
    "Also, don't those numbers look familiar? .66 and .17 are the values from the pivot table ‼️ BAM!\n",
    "\n",
    "In this simple one-variable case, the logistic regression predictions are simply the probabilities of survival for men and women."
   ]
  },
  {
   "cell_type": "markdown",
   "metadata": {},
   "source": [
    "**Step 3: What is the odds ratio of on the gender variable alone?**"
   ]
  },
  {
   "cell_type": "code",
   "execution_count": 17,
   "metadata": {},
   "outputs": [
    {
     "data": {
      "text/plain": [
       "9.81202600216532"
      ]
     },
     "execution_count": 17,
     "metadata": {},
     "output_type": "execute_result"
    }
   ],
   "source": [
    "# odds of survival for women / odds of surival for men\n",
    "odds[0] / odds[1]"
   ]
  },
  {
   "cell_type": "code",
   "execution_count": 18,
   "metadata": {},
   "outputs": [
    {
     "name": "stdout",
     "output_type": "stream",
     "text": [
      "(Intercept)      female \n",
      "  -1.606617    2.283609 \n"
     ]
    }
   ],
   "source": [
    "%%R \n",
    "\n",
    "coef(logistic)"
   ]
  },
  {
   "cell_type": "code",
   "execution_count": 19,
   "metadata": {},
   "outputs": [
    {
     "name": "stdout",
     "output_type": "stream",
     "text": [
      "(Intercept)      female \n",
      "   0.200565    9.812026 \n"
     ]
    }
   ],
   "source": [
    "%%R\n",
    "\n",
    "exp(coef(logistic))"
   ]
  },
  {
   "cell_type": "markdown",
   "metadata": {},
   "source": [
    "The `coef` is the log of the odds ratio. We exponentiate that to get the odds ratio of 9.8\n",
    "\n",
    "So in this simple model, the odds of survival are 9.8 times higher for women than men.\n",
    "\n"
   ]
  },
  {
   "cell_type": "code",
   "execution_count": 20,
   "metadata": {},
   "outputs": [
    {
     "name": "stdout",
     "output_type": "stream",
     "text": [
      "What share of each survived? \n",
      "(probability)\n"
     ]
    },
    {
     "data": {
      "text/html": [
       "<div>\n",
       "<style scoped>\n",
       "    .dataframe tbody tr th:only-of-type {\n",
       "        vertical-align: middle;\n",
       "    }\n",
       "\n",
       "    .dataframe tbody tr th {\n",
       "        vertical-align: top;\n",
       "    }\n",
       "\n",
       "    .dataframe thead th {\n",
       "        text-align: right;\n",
       "    }\n",
       "</style>\n",
       "<table border=\"1\" class=\"dataframe\">\n",
       "  <thead>\n",
       "    <tr style=\"text-align: right;\">\n",
       "      <th>survived</th>\n",
       "      <th>1</th>\n",
       "    </tr>\n",
       "    <tr>\n",
       "      <th>gender</th>\n",
       "      <th></th>\n",
       "    </tr>\n",
       "  </thead>\n",
       "  <tbody>\n",
       "    <tr>\n",
       "      <th>female</th>\n",
       "      <td>0.66</td>\n",
       "    </tr>\n",
       "    <tr>\n",
       "      <th>male</th>\n",
       "      <td>0.17</td>\n",
       "    </tr>\n",
       "    <tr>\n",
       "      <th>All</th>\n",
       "      <td>0.34</td>\n",
       "    </tr>\n",
       "  </tbody>\n",
       "</table>\n",
       "</div>"
      ],
      "text/plain": [
       "survived     1\n",
       "gender        \n",
       "female    0.66\n",
       "male      0.17\n",
       "All       0.34"
      ]
     },
     "metadata": {},
     "output_type": "display_data"
    },
    {
     "name": "stdout",
     "output_type": "stream",
     "text": [
      "What share of each survived? \n",
      "(odds)\n"
     ]
    },
    {
     "data": {
      "text/plain": [
       "gender\n",
       "female    1.967949\n",
       "male      0.200565\n",
       "dtype: float64"
      ]
     },
     "metadata": {},
     "output_type": "display_data"
    }
   ],
   "source": [
    "print(\"What share of each survived? \\n(probability)\")\n",
    "display(pd.crosstab(df.gender, df.survived, margins=True, normalize='index').round(2).iloc[: ,1:])\n",
    "\n",
    "print(\"What share of each survived? \\n(odds)\")\n",
    "display(\n",
    "    pd.crosstab(df.gender, df.survived).iloc[: ,1] / pd.crosstab(df.gender, df.survived).iloc[: ,0]\n",
    ")"
   ]
  },
  {
   "cell_type": "markdown",
   "metadata": {},
   "source": [
    "WHOA! the odds of survival are 1.97 for women and .2 for men\n",
    "\n",
    "And the odds ratio is 🥁🥁🥁🥁🥁🥁 1.97/.2 = 9.81\n",
    "\n",
    "Same as the Logistic Regression!!! \n",
    "\n",
    "So in this simple one variable case...the logistic regression isn't doing much more than simple probability calculations!"
   ]
  },
  {
   "cell_type": "markdown",
   "metadata": {},
   "source": [
    "**Now, try the same thing but with the `pclass` variable**"
   ]
  },
  {
   "cell_type": "code",
   "execution_count": 21,
   "metadata": {},
   "outputs": [],
   "source": [
    "# Step 1: Run a logistic regression on one variable and see the summary of the output\n",
    "\n",
    "# hint: \n",
    "# https://investigate.ai/regression/logistic-regression-quickstart/#Performing-a-regression"
   ]
  },
  {
   "cell_type": "code",
   "execution_count": 22,
   "metadata": {},
   "outputs": [],
   "source": [
    "# Step 2: analyze the dataframe with predicted values\n",
    "\n",
    "# hint: \n",
    "# you'll need to create a new column on df and use results.predict() to assign it values\n",
    "# https://investigate.ai/regression/logistic-regression-quickstart/#Making-predictions"
   ]
  },
  {
   "cell_type": "code",
   "execution_count": 23,
   "metadata": {},
   "outputs": [],
   "source": [
    "# Step 3: What is the odds ratio of on the pclass variable alone?\n",
    "\n",
    "# hint: in order to make sense of the coefficients, you'll need to exponentiate them\n",
    "# that turns the coefficients into odds ratios\n",
    "# https://investigate.ai/regression/logistic-regression-quickstart/#Converting-coefficient-to-odds\n"
   ]
  },
  {
   "cell_type": "markdown",
   "metadata": {},
   "source": [
    "**Bonus** 🤖 - Writing clean/DRY code\n",
    "\n",
    "DRY stands for \"Don't Repeat Yourself\". This is a good principle of writing clean code. Instead of copy/pasting code multiple times (which can lead to errors if you fix one copy but not the other), you can write DRY code by wrapping any chunk of code you plan to repeat in a function. As a bonus on this section, re-write the code above as a function and run that function once on `female` and once on `pclass`."
   ]
  },
  {
   "cell_type": "markdown",
   "metadata": {},
   "source": [
    "### 3. Looking at two variables at a time\n",
    "\n",
    "We know from the earlier assignment that class also affects survival, so let's add that to our model. Compute a logistic regression on the variables `pclass` and `female`."
   ]
  },
  {
   "cell_type": "code",
   "execution_count": 24,
   "metadata": {},
   "outputs": [
    {
     "name": "stdout",
     "output_type": "stream",
     "text": [
      "\n",
      "Call:\n",
      "glm(formula = survived ~ pclass + female, family = \"binomial\", \n",
      "    data = df)\n",
      "\n",
      "Deviance Residuals: \n",
      "    Min       1Q   Median       3Q      Max  \n",
      "-2.0677  -0.6481  -0.3989   0.5010   2.2674  \n",
      "\n",
      "Coefficients:\n",
      "            Estimate Std. Error z value Pr(>|z|)    \n",
      "(Intercept)   0.6210     0.1957   3.173  0.00151 ** \n",
      "pclass       -1.0373     0.0880 -11.788  < 2e-16 ***\n",
      "female        2.4285     0.1507  16.118  < 2e-16 ***\n",
      "---\n",
      "Signif. codes:  0 ‘***’ 0.001 ‘**’ 0.01 ‘*’ 0.05 ‘.’ 0.1 ‘ ’ 1\n",
      "\n",
      "(Dispersion parameter for binomial family taken to be 1)\n",
      "\n",
      "    Null deviance: 1686.8  on 1312  degrees of freedom\n",
      "Residual deviance: 1202.0  on 1310  degrees of freedom\n",
      "AIC: 1208\n",
      "\n",
      "Number of Fisher Scoring iterations: 4\n",
      "\n"
     ]
    }
   ],
   "source": [
    "%%R -i df\n",
    "\n",
    "# Logistic regression on two variables\n",
    "\n",
    "logistic <- glm(survived ~ pclass + female, data=df, family=\"binomial\")\n",
    "summary(logistic)"
   ]
  },
  {
   "cell_type": "code",
   "execution_count": 25,
   "metadata": {},
   "outputs": [
    {
     "name": "stdout",
     "output_type": "stream",
     "text": [
      " McFadden \n",
      "0.2873779 \n"
     ]
    }
   ],
   "source": [
    "%%R \n",
    "\n",
    "PseudoR2(logistic, which=\"McFadden\")"
   ]
  },
  {
   "cell_type": "markdown",
   "metadata": {},
   "source": [
    "Both variables have a significant p-value, the pseudo R-squared is better...meaning we have a better representation of the odds of survival with this model! Looks like considering both age and class of a person together give us a better representation of whether or not they will survive."
   ]
  },
  {
   "cell_type": "code",
   "execution_count": 26,
   "metadata": {},
   "outputs": [],
   "source": [
    "%%R -o df\n",
    "\n",
    "# Step 2: analyze the dataframe with predicted values\n",
    "\n",
    "df <- df %>% mutate(prediction = exp(predict(logistic)))"
   ]
  },
  {
   "cell_type": "code",
   "execution_count": 27,
   "metadata": {},
   "outputs": [
    {
     "data": {
      "text/html": [
       "<div>\n",
       "<style scoped>\n",
       "    .dataframe tbody tr th:only-of-type {\n",
       "        vertical-align: middle;\n",
       "    }\n",
       "\n",
       "    .dataframe tbody tr th {\n",
       "        vertical-align: top;\n",
       "    }\n",
       "\n",
       "    .dataframe thead th {\n",
       "        text-align: right;\n",
       "    }\n",
       "</style>\n",
       "<table border=\"1\" class=\"dataframe\">\n",
       "  <thead>\n",
       "    <tr style=\"text-align: right;\">\n",
       "      <th></th>\n",
       "      <th>pclass</th>\n",
       "      <th>survived</th>\n",
       "      <th>name</th>\n",
       "      <th>age</th>\n",
       "      <th>embarked</th>\n",
       "      <th>home.dest</th>\n",
       "      <th>room</th>\n",
       "      <th>ticket</th>\n",
       "      <th>boat</th>\n",
       "      <th>gender</th>\n",
       "      <th>female</th>\n",
       "      <th>prediction</th>\n",
       "    </tr>\n",
       "  </thead>\n",
       "  <tbody>\n",
       "    <tr>\n",
       "      <th>0</th>\n",
       "      <td>1</td>\n",
       "      <td>1</td>\n",
       "      <td>Allen, Miss Elisabeth Walton</td>\n",
       "      <td>29.0000</td>\n",
       "      <td>Southampton</td>\n",
       "      <td>St Louis, MO</td>\n",
       "      <td>B-5</td>\n",
       "      <td>24160 L221</td>\n",
       "      <td>2</td>\n",
       "      <td>female</td>\n",
       "      <td>1</td>\n",
       "      <td>7.479252</td>\n",
       "    </tr>\n",
       "    <tr>\n",
       "      <th>1</th>\n",
       "      <td>1</td>\n",
       "      <td>0</td>\n",
       "      <td>Allison, Miss Helen Loraine</td>\n",
       "      <td>2.0000</td>\n",
       "      <td>Southampton</td>\n",
       "      <td>Montreal, PQ / Chesterville, ON</td>\n",
       "      <td>C26</td>\n",
       "      <td>None</td>\n",
       "      <td>None</td>\n",
       "      <td>female</td>\n",
       "      <td>1</td>\n",
       "      <td>7.479252</td>\n",
       "    </tr>\n",
       "    <tr>\n",
       "      <th>2</th>\n",
       "      <td>1</td>\n",
       "      <td>0</td>\n",
       "      <td>Allison, Mr Hudson Joshua Creighton</td>\n",
       "      <td>30.0000</td>\n",
       "      <td>Southampton</td>\n",
       "      <td>Montreal, PQ / Chesterville, ON</td>\n",
       "      <td>C26</td>\n",
       "      <td>None</td>\n",
       "      <td>-135</td>\n",
       "      <td>male</td>\n",
       "      <td>0</td>\n",
       "      <td>0.659449</td>\n",
       "    </tr>\n",
       "    <tr>\n",
       "      <th>3</th>\n",
       "      <td>1</td>\n",
       "      <td>0</td>\n",
       "      <td>Allison, Mrs Hudson J.C. (Bessie Waldo Daniels)</td>\n",
       "      <td>25.0000</td>\n",
       "      <td>Southampton</td>\n",
       "      <td>Montreal, PQ / Chesterville, ON</td>\n",
       "      <td>C26</td>\n",
       "      <td>None</td>\n",
       "      <td>None</td>\n",
       "      <td>female</td>\n",
       "      <td>1</td>\n",
       "      <td>7.479252</td>\n",
       "    </tr>\n",
       "    <tr>\n",
       "      <th>4</th>\n",
       "      <td>1</td>\n",
       "      <td>1</td>\n",
       "      <td>Allison, Master Hudson Trevor</td>\n",
       "      <td>0.9167</td>\n",
       "      <td>Southampton</td>\n",
       "      <td>Montreal, PQ / Chesterville, ON</td>\n",
       "      <td>C22</td>\n",
       "      <td>None</td>\n",
       "      <td>11</td>\n",
       "      <td>male</td>\n",
       "      <td>0</td>\n",
       "      <td>0.659449</td>\n",
       "    </tr>\n",
       "    <tr>\n",
       "      <th>...</th>\n",
       "      <td>...</td>\n",
       "      <td>...</td>\n",
       "      <td>...</td>\n",
       "      <td>...</td>\n",
       "      <td>...</td>\n",
       "      <td>...</td>\n",
       "      <td>...</td>\n",
       "      <td>...</td>\n",
       "      <td>...</td>\n",
       "      <td>...</td>\n",
       "      <td>...</td>\n",
       "      <td>...</td>\n",
       "    </tr>\n",
       "    <tr>\n",
       "      <th>1308</th>\n",
       "      <td>3</td>\n",
       "      <td>0</td>\n",
       "      <td>Zakarian, Mr Artun</td>\n",
       "      <td>NaN</td>\n",
       "      <td>None</td>\n",
       "      <td>None</td>\n",
       "      <td>None</td>\n",
       "      <td>None</td>\n",
       "      <td>None</td>\n",
       "      <td>male</td>\n",
       "      <td>0</td>\n",
       "      <td>0.082830</td>\n",
       "    </tr>\n",
       "    <tr>\n",
       "      <th>1309</th>\n",
       "      <td>3</td>\n",
       "      <td>0</td>\n",
       "      <td>Zakarian, Mr Maprieder</td>\n",
       "      <td>NaN</td>\n",
       "      <td>None</td>\n",
       "      <td>None</td>\n",
       "      <td>None</td>\n",
       "      <td>None</td>\n",
       "      <td>None</td>\n",
       "      <td>male</td>\n",
       "      <td>0</td>\n",
       "      <td>0.082830</td>\n",
       "    </tr>\n",
       "    <tr>\n",
       "      <th>1310</th>\n",
       "      <td>3</td>\n",
       "      <td>0</td>\n",
       "      <td>Zenn, Mr Philip</td>\n",
       "      <td>NaN</td>\n",
       "      <td>None</td>\n",
       "      <td>None</td>\n",
       "      <td>None</td>\n",
       "      <td>None</td>\n",
       "      <td>None</td>\n",
       "      <td>male</td>\n",
       "      <td>0</td>\n",
       "      <td>0.082830</td>\n",
       "    </tr>\n",
       "    <tr>\n",
       "      <th>1311</th>\n",
       "      <td>3</td>\n",
       "      <td>0</td>\n",
       "      <td>Zievens, Rene</td>\n",
       "      <td>NaN</td>\n",
       "      <td>None</td>\n",
       "      <td>None</td>\n",
       "      <td>None</td>\n",
       "      <td>None</td>\n",
       "      <td>None</td>\n",
       "      <td>female</td>\n",
       "      <td>1</td>\n",
       "      <td>0.939433</td>\n",
       "    </tr>\n",
       "    <tr>\n",
       "      <th>1312</th>\n",
       "      <td>3</td>\n",
       "      <td>0</td>\n",
       "      <td>Zimmerman, Leo</td>\n",
       "      <td>NaN</td>\n",
       "      <td>None</td>\n",
       "      <td>None</td>\n",
       "      <td>None</td>\n",
       "      <td>None</td>\n",
       "      <td>None</td>\n",
       "      <td>male</td>\n",
       "      <td>0</td>\n",
       "      <td>0.082830</td>\n",
       "    </tr>\n",
       "  </tbody>\n",
       "</table>\n",
       "<p>1313 rows × 12 columns</p>\n",
       "</div>"
      ],
      "text/plain": [
       "      pclass  survived                                             name   \n",
       "0          1         1                     Allen, Miss Elisabeth Walton  \\\n",
       "1          1         0                      Allison, Miss Helen Loraine   \n",
       "2          1         0              Allison, Mr Hudson Joshua Creighton   \n",
       "3          1         0  Allison, Mrs Hudson J.C. (Bessie Waldo Daniels)   \n",
       "4          1         1                    Allison, Master Hudson Trevor   \n",
       "...      ...       ...                                              ...   \n",
       "1308       3         0                               Zakarian, Mr Artun   \n",
       "1309       3         0                           Zakarian, Mr Maprieder   \n",
       "1310       3         0                                  Zenn, Mr Philip   \n",
       "1311       3         0                                    Zievens, Rene   \n",
       "1312       3         0                                   Zimmerman, Leo   \n",
       "\n",
       "          age     embarked                        home.dest  room      ticket   \n",
       "0     29.0000  Southampton                     St Louis, MO   B-5  24160 L221  \\\n",
       "1      2.0000  Southampton  Montreal, PQ / Chesterville, ON   C26        None   \n",
       "2     30.0000  Southampton  Montreal, PQ / Chesterville, ON   C26        None   \n",
       "3     25.0000  Southampton  Montreal, PQ / Chesterville, ON   C26        None   \n",
       "4      0.9167  Southampton  Montreal, PQ / Chesterville, ON   C22        None   \n",
       "...       ...          ...                              ...   ...         ...   \n",
       "1308      NaN         None                             None  None        None   \n",
       "1309      NaN         None                             None  None        None   \n",
       "1310      NaN         None                             None  None        None   \n",
       "1311      NaN         None                             None  None        None   \n",
       "1312      NaN         None                             None  None        None   \n",
       "\n",
       "      boat  gender  female  prediction  \n",
       "0        2  female       1    7.479252  \n",
       "1     None  female       1    7.479252  \n",
       "2     -135    male       0    0.659449  \n",
       "3     None  female       1    7.479252  \n",
       "4       11    male       0    0.659449  \n",
       "...    ...     ...     ...         ...  \n",
       "1308  None    male       0    0.082830  \n",
       "1309  None    male       0    0.082830  \n",
       "1310  None    male       0    0.082830  \n",
       "1311  None  female       1    0.939433  \n",
       "1312  None    male       0    0.082830  \n",
       "\n",
       "[1313 rows x 12 columns]"
      ]
     },
     "execution_count": 27,
     "metadata": {},
     "output_type": "execute_result"
    }
   ],
   "source": [
    "df"
   ]
  },
  {
   "cell_type": "markdown",
   "metadata": {},
   "source": [
    "Now there are several predicted values...six to be exact! \n",
    "\n",
    "3 classes x 2 genders = 6 possible predictions"
   ]
  },
  {
   "cell_type": "code",
   "execution_count": 28,
   "metadata": {},
   "outputs": [
    {
     "data": {
      "text/plain": [
       "array([7.47925182, 0.65944902, 0.23371415, 2.6507083 , 0.08283021,\n",
       "       0.9394328 ])"
      ]
     },
     "execution_count": 28,
     "metadata": {},
     "output_type": "execute_result"
    }
   ],
   "source": [
    "df.prediction.unique()"
   ]
  },
  {
   "cell_type": "code",
   "execution_count": 29,
   "metadata": {
    "scrolled": true
   },
   "outputs": [
    {
     "name": "stdout",
     "output_type": "stream",
     "text": [
      "(Intercept)      pclass      female \n",
      "  0.6209553  -1.0373059   2.4284834 \n"
     ]
    }
   ],
   "source": [
    "%%R \n",
    "# Step 3: What is the odds ratio of on the gender variable?\n",
    "\n",
    "# hint: in order to make sense of the coefficients, you'll need to exponentiate them\n",
    "# that turns the coefficients into odds ratios\n",
    "# https://investigate.ai/regression/logistic-regression-quickstart/#Converting-coefficient-to-odds\n",
    "\n",
    "coef(logistic)"
   ]
  },
  {
   "cell_type": "code",
   "execution_count": 30,
   "metadata": {},
   "outputs": [
    {
     "name": "stdout",
     "output_type": "stream",
     "text": [
      "(Intercept)      pclass      female \n",
      "  1.8607046   0.3544082  11.3416680 \n"
     ]
    }
   ],
   "source": [
    "%%R \n",
    "exp(coef(logistic))"
   ]
  },
  {
   "cell_type": "markdown",
   "metadata": {},
   "source": [
    "Now our odds ratio is 11.34 on `female` and `.35` on pclass. The coefficients allow you to compare `pclass` to `female` and the odds ratios allow you to more meaningfully interpret the increase or decrease in odds of survival based on gender or pclass."
   ]
  },
  {
   "cell_type": "markdown",
   "metadata": {},
   "source": [
    "### 4. What does this mean\n",
    "\n",
    "What is the odds ratio on the `pclass` variable? What happens to the odds of survival when we move from 1st to 2nd or from 2nd to 3rd class?\n"
   ]
  },
  {
   "cell_type": "markdown",
   "metadata": {},
   "source": [
    "👉 The odds ratio on `female` was 9.8 for the model `survived ~ female`\n",
    "\n",
    "👉 The odds ratio on `female` was 11.34 for the model `survived ~ pclass + female` (which does a better job at explaining the variance in who survived or not because it has a higher Pseudo R-squared)\n",
    "\n",
    "This means that when we **control for** the effect of class, the gender disparity chances of surival increases. Women are more likely to surive than we had originally thought.\n",
    "\n",
    "But are ticket class and gender the only things that determine your chance of survival?"
   ]
  },
  {
   "cell_type": "markdown",
   "metadata": {},
   "source": [
    "### 5. Bonus - Age\n",
    "\n",
    "Does the age of a passenger impact their chances of survival?"
   ]
  },
  {
   "cell_type": "code",
   "execution_count": 31,
   "metadata": {
    "scrolled": false
   },
   "outputs": [
    {
     "name": "stdout",
     "output_type": "stream",
     "text": [
      "[1] \"What about age? Were older people more likely to survive than younger people\"\n"
     ]
    },
    {
     "data": {
      "image/png": "[encoded data removed]"
     },
     "metadata": {},
     "output_type": "display_data"
    }
   ],
   "source": [
    "%%R -h 300\n",
    "# Since age is a continous variable..the pivot tables we used above aren't too helpful anymore\n",
    "print(\"What about age? Were older people more likely to survive than younger people\")\n",
    "ggplot(df %>% drop_na(age)) + \n",
    "    aes(x=age, fill=factor(survived)) + \n",
    "    geom_histogram(alpha=.3, bins=20) + \n",
    "    facet_wrap(~survived, scales='free_y') + \n",
    "    theme_minimal()\n"
   ]
  },
  {
   "cell_type": "markdown",
   "metadata": {},
   "source": [
    "Hmm...the histograms look quite similar...**EXCEPT** what is that bump on the left side among survivors? Looks a bigger share of a the survivors are children than the non-survivors.\n",
    "\n",
    "Let's explore this phenomenon in the context of the other variables (in our Logistic Regression!)"
   ]
  },
  {
   "cell_type": "code",
   "execution_count": 32,
   "metadata": {},
   "outputs": [
    {
     "name": "stdout",
     "output_type": "stream",
     "text": [
      "\n",
      "Call:\n",
      "glm(formula = survived ~ pclass + female + age, family = \"binomial\", \n",
      "    data = df)\n",
      "\n",
      "Deviance Residuals: \n",
      "    Min       1Q   Median       3Q      Max  \n",
      "-2.9655  -0.6657  -0.3099   0.5814   2.7104  \n",
      "\n",
      "Coefficients:\n",
      "             Estimate Std. Error z value Pr(>|z|)    \n",
      "(Intercept)  2.818805   0.501547   5.620 1.91e-08 ***\n",
      "pclass      -1.422401   0.169601  -8.387  < 2e-16 ***\n",
      "female       3.086188   0.241293  12.790  < 2e-16 ***\n",
      "age         -0.048867   0.008614  -5.673 1.40e-08 ***\n",
      "---\n",
      "Signif. codes:  0 ‘***’ 0.001 ‘**’ 0.01 ‘*’ 0.05 ‘.’ 0.1 ‘ ’ 1\n",
      "\n",
      "(Dispersion parameter for binomial family taken to be 1)\n",
      "\n",
      "    Null deviance: 869.54  on 632  degrees of freedom\n",
      "Residual deviance: 539.82  on 629  degrees of freedom\n",
      "  (680 observations deleted due to missingness)\n",
      "AIC: 547.82\n",
      "\n",
      "Number of Fisher Scoring iterations: 5\n",
      "\n"
     ]
    }
   ],
   "source": [
    "%%R -i df\n",
    "\n",
    "# Logistic regression on two variables\n",
    "\n",
    "logistic <- glm(survived ~ pclass + female + age, data=df, family=\"binomial\")\n",
    "summary(logistic)"
   ]
  },
  {
   "cell_type": "code",
   "execution_count": 33,
   "metadata": {},
   "outputs": [
    {
     "name": "stdout",
     "output_type": "stream",
     "text": [
      " McFadden \n",
      "0.3791915 \n"
     ]
    }
   ],
   "source": [
    "%%R \n",
    "PseudoR2(logistic, which=\"McFadden\")"
   ]
  },
  {
   "cell_type": "code",
   "execution_count": 34,
   "metadata": {},
   "outputs": [],
   "source": [
    "%%R -o df \n",
    "\n",
    "df <- df %>% drop_na(age) # note that we're dropping about half the dataframe here!!!!!\n",
    "df <- df %>% mutate(\n",
    "    prediction = exp(predict(logistic)),\n",
    "    prediction_pct = prediction / (1 + prediction)\n",
    ")\n"
   ]
  },
  {
   "cell_type": "code",
   "execution_count": 35,
   "metadata": {},
   "outputs": [
    {
     "data": {
      "text/html": [
       "<div>\n",
       "<style scoped>\n",
       "    .dataframe tbody tr th:only-of-type {\n",
       "        vertical-align: middle;\n",
       "    }\n",
       "\n",
       "    .dataframe tbody tr th {\n",
       "        vertical-align: top;\n",
       "    }\n",
       "\n",
       "    .dataframe thead th {\n",
       "        text-align: right;\n",
       "    }\n",
       "</style>\n",
       "<table border=\"1\" class=\"dataframe\">\n",
       "  <thead>\n",
       "    <tr style=\"text-align: right;\">\n",
       "      <th></th>\n",
       "      <th>pclass</th>\n",
       "      <th>survived</th>\n",
       "      <th>name</th>\n",
       "      <th>age</th>\n",
       "      <th>embarked</th>\n",
       "      <th>home.dest</th>\n",
       "      <th>room</th>\n",
       "      <th>ticket</th>\n",
       "      <th>boat</th>\n",
       "      <th>gender</th>\n",
       "      <th>female</th>\n",
       "      <th>prediction</th>\n",
       "      <th>prediction_pct</th>\n",
       "    </tr>\n",
       "  </thead>\n",
       "  <tbody>\n",
       "    <tr>\n",
       "      <th>0</th>\n",
       "      <td>1</td>\n",
       "      <td>1</td>\n",
       "      <td>Allen, Miss Elisabeth Walton</td>\n",
       "      <td>29.0000</td>\n",
       "      <td>Southampton</td>\n",
       "      <td>St Louis, MO</td>\n",
       "      <td>B-5</td>\n",
       "      <td>24160 L221</td>\n",
       "      <td>2</td>\n",
       "      <td>female</td>\n",
       "      <td>1</td>\n",
       "      <td>21.444123</td>\n",
       "      <td>0.955445</td>\n",
       "    </tr>\n",
       "    <tr>\n",
       "      <th>1</th>\n",
       "      <td>1</td>\n",
       "      <td>0</td>\n",
       "      <td>Allison, Miss Helen Loraine</td>\n",
       "      <td>2.0000</td>\n",
       "      <td>Southampton</td>\n",
       "      <td>Montreal, PQ / Chesterville, ON</td>\n",
       "      <td>C26</td>\n",
       "      <td>None</td>\n",
       "      <td>None</td>\n",
       "      <td>female</td>\n",
       "      <td>1</td>\n",
       "      <td>80.226827</td>\n",
       "      <td>0.987689</td>\n",
       "    </tr>\n",
       "    <tr>\n",
       "      <th>2</th>\n",
       "      <td>1</td>\n",
       "      <td>0</td>\n",
       "      <td>Allison, Mr Hudson Joshua Creighton</td>\n",
       "      <td>30.0000</td>\n",
       "      <td>Southampton</td>\n",
       "      <td>Montreal, PQ / Chesterville, ON</td>\n",
       "      <td>C26</td>\n",
       "      <td>None</td>\n",
       "      <td>-135</td>\n",
       "      <td>male</td>\n",
       "      <td>0</td>\n",
       "      <td>0.932763</td>\n",
       "      <td>0.482606</td>\n",
       "    </tr>\n",
       "    <tr>\n",
       "      <th>3</th>\n",
       "      <td>1</td>\n",
       "      <td>0</td>\n",
       "      <td>Allison, Mrs Hudson J.C. (Bessie Waldo Daniels)</td>\n",
       "      <td>25.0000</td>\n",
       "      <td>Southampton</td>\n",
       "      <td>Montreal, PQ / Chesterville, ON</td>\n",
       "      <td>C26</td>\n",
       "      <td>None</td>\n",
       "      <td>None</td>\n",
       "      <td>female</td>\n",
       "      <td>1</td>\n",
       "      <td>26.073472</td>\n",
       "      <td>0.963063</td>\n",
       "    </tr>\n",
       "    <tr>\n",
       "      <th>4</th>\n",
       "      <td>1</td>\n",
       "      <td>1</td>\n",
       "      <td>Allison, Master Hudson Trevor</td>\n",
       "      <td>0.9167</td>\n",
       "      <td>Southampton</td>\n",
       "      <td>Montreal, PQ / Chesterville, ON</td>\n",
       "      <td>C22</td>\n",
       "      <td>None</td>\n",
       "      <td>11</td>\n",
       "      <td>male</td>\n",
       "      <td>0</td>\n",
       "      <td>3.863633</td>\n",
       "      <td>0.794392</td>\n",
       "    </tr>\n",
       "    <tr>\n",
       "      <th>...</th>\n",
       "      <td>...</td>\n",
       "      <td>...</td>\n",
       "      <td>...</td>\n",
       "      <td>...</td>\n",
       "      <td>...</td>\n",
       "      <td>...</td>\n",
       "      <td>...</td>\n",
       "      <td>...</td>\n",
       "      <td>...</td>\n",
       "      <td>...</td>\n",
       "      <td>...</td>\n",
       "      <td>...</td>\n",
       "      <td>...</td>\n",
       "    </tr>\n",
       "    <tr>\n",
       "      <th>833</th>\n",
       "      <td>3</td>\n",
       "      <td>0</td>\n",
       "      <td>Gronnestad, Mr Daniel Danielsen</td>\n",
       "      <td>32.0000</td>\n",
       "      <td>Southampton</td>\n",
       "      <td>Foresvik, Norway Portland, ND</td>\n",
       "      <td>None</td>\n",
       "      <td>None</td>\n",
       "      <td>None</td>\n",
       "      <td>male</td>\n",
       "      <td>0</td>\n",
       "      <td>0.049186</td>\n",
       "      <td>0.046880</td>\n",
       "    </tr>\n",
       "    <tr>\n",
       "      <th>835</th>\n",
       "      <td>3</td>\n",
       "      <td>0</td>\n",
       "      <td>Gustafsson, Mr Alfred Ossian</td>\n",
       "      <td>20.0000</td>\n",
       "      <td>Southampton</td>\n",
       "      <td>Waukegan, Chicago, IL</td>\n",
       "      <td>None</td>\n",
       "      <td>None</td>\n",
       "      <td>None</td>\n",
       "      <td>male</td>\n",
       "      <td>0</td>\n",
       "      <td>0.088413</td>\n",
       "      <td>0.081231</td>\n",
       "    </tr>\n",
       "    <tr>\n",
       "      <th>836</th>\n",
       "      <td>3</td>\n",
       "      <td>0</td>\n",
       "      <td>Gustafsson, Mr Anders Vilhelm</td>\n",
       "      <td>37.0000</td>\n",
       "      <td>Southampton</td>\n",
       "      <td>Ruotsinphytaa, Finland New York, NY</td>\n",
       "      <td>None</td>\n",
       "      <td>None</td>\n",
       "      <td>None</td>\n",
       "      <td>male</td>\n",
       "      <td>0</td>\n",
       "      <td>0.038524</td>\n",
       "      <td>0.037095</td>\n",
       "    </tr>\n",
       "    <tr>\n",
       "      <th>837</th>\n",
       "      <td>3</td>\n",
       "      <td>0</td>\n",
       "      <td>Gustafsson, Mr Johan Birger</td>\n",
       "      <td>28.0000</td>\n",
       "      <td>Southampton</td>\n",
       "      <td>Ruotsinphytaa, Finland New York, NY</td>\n",
       "      <td>None</td>\n",
       "      <td>None</td>\n",
       "      <td>None</td>\n",
       "      <td>male</td>\n",
       "      <td>0</td>\n",
       "      <td>0.059805</td>\n",
       "      <td>0.056430</td>\n",
       "    </tr>\n",
       "    <tr>\n",
       "      <th>838</th>\n",
       "      <td>3</td>\n",
       "      <td>0</td>\n",
       "      <td>Gustafsson, Mr Karl Gideon</td>\n",
       "      <td>19.0000</td>\n",
       "      <td>Southampton</td>\n",
       "      <td>Myren, Sweden New York, NY</td>\n",
       "      <td>None</td>\n",
       "      <td>None</td>\n",
       "      <td>None</td>\n",
       "      <td>male</td>\n",
       "      <td>0</td>\n",
       "      <td>0.092841</td>\n",
       "      <td>0.084954</td>\n",
       "    </tr>\n",
       "  </tbody>\n",
       "</table>\n",
       "<p>633 rows × 13 columns</p>\n",
       "</div>"
      ],
      "text/plain": [
       "     pclass  survived                                             name   \n",
       "0         1         1                     Allen, Miss Elisabeth Walton  \\\n",
       "1         1         0                      Allison, Miss Helen Loraine   \n",
       "2         1         0              Allison, Mr Hudson Joshua Creighton   \n",
       "3         1         0  Allison, Mrs Hudson J.C. (Bessie Waldo Daniels)   \n",
       "4         1         1                    Allison, Master Hudson Trevor   \n",
       "..      ...       ...                                              ...   \n",
       "833       3         0                  Gronnestad, Mr Daniel Danielsen   \n",
       "835       3         0                     Gustafsson, Mr Alfred Ossian   \n",
       "836       3         0                    Gustafsson, Mr Anders Vilhelm   \n",
       "837       3         0                      Gustafsson, Mr Johan Birger   \n",
       "838       3         0                       Gustafsson, Mr Karl Gideon   \n",
       "\n",
       "         age     embarked                            home.dest  room   \n",
       "0    29.0000  Southampton                         St Louis, MO   B-5  \\\n",
       "1     2.0000  Southampton      Montreal, PQ / Chesterville, ON   C26   \n",
       "2    30.0000  Southampton      Montreal, PQ / Chesterville, ON   C26   \n",
       "3    25.0000  Southampton      Montreal, PQ / Chesterville, ON   C26   \n",
       "4     0.9167  Southampton      Montreal, PQ / Chesterville, ON   C22   \n",
       "..       ...          ...                                  ...   ...   \n",
       "833  32.0000  Southampton        Foresvik, Norway Portland, ND  None   \n",
       "835  20.0000  Southampton                Waukegan, Chicago, IL  None   \n",
       "836  37.0000  Southampton  Ruotsinphytaa, Finland New York, NY  None   \n",
       "837  28.0000  Southampton  Ruotsinphytaa, Finland New York, NY  None   \n",
       "838  19.0000  Southampton           Myren, Sweden New York, NY  None   \n",
       "\n",
       "         ticket  boat  gender  female  prediction  prediction_pct  \n",
       "0    24160 L221     2  female       1   21.444123        0.955445  \n",
       "1          None  None  female       1   80.226827        0.987689  \n",
       "2          None  -135    male       0    0.932763        0.482606  \n",
       "3          None  None  female       1   26.073472        0.963063  \n",
       "4          None    11    male       0    3.863633        0.794392  \n",
       "..          ...   ...     ...     ...         ...             ...  \n",
       "833        None  None    male       0    0.049186        0.046880  \n",
       "835        None  None    male       0    0.088413        0.081231  \n",
       "836        None  None    male       0    0.038524        0.037095  \n",
       "837        None  None    male       0    0.059805        0.056430  \n",
       "838        None  None    male       0    0.092841        0.084954  \n",
       "\n",
       "[633 rows x 13 columns]"
      ]
     },
     "execution_count": 35,
     "metadata": {},
     "output_type": "execute_result"
    }
   ],
   "source": [
    "df"
   ]
  },
  {
   "cell_type": "markdown",
   "metadata": {},
   "source": [
    "Since age is a continous variable, we have LOTS of predictions now."
   ]
  },
  {
   "cell_type": "code",
   "execution_count": 36,
   "metadata": {},
   "outputs": [
    {
     "data": {
      "text/plain": [
       "array([2.14441232e+01, 8.02268266e+01, 9.32763201e-01, 2.60734716e+01,\n",
       "       3.86363287e+00, 4.06430694e-01, 4.07135042e+00, 6.00852166e-01,\n",
       "       5.19818452e+00, 1.25789127e-01, 3.49570446e+01, 7.68480449e+00,\n",
       "       1.25056783e+00, 6.95721709e-01, 6.62541236e-01, 8.89817100e+00,\n",
       "       1.13412773e+00, 1.19092555e+00, 1.02852934e+00, 4.48158649e-01,\n",
       "       2.04214066e+01, 9.81173998e+00, 3.01902552e+01, 5.44906951e-01,\n",
       "       3.87047135e-01, 1.03031180e+01, 4.95027186e+00, 4.71418269e+00,\n",
       "       6.63689427e+00, 8.05570362e-01, 1.52317500e+01, 4.46321611e+01,\n",
       "       2.36048689e+00, 3.68588021e-01, 4.26784994e-01, 1.08003873e+00,\n",
       "       1.94474656e+01, 2.48299714e+01, 3.87717892e+00, 1.31547282e+01,\n",
       "       6.01893448e+00, 1.32088724e-01, 3.03670521e+00, 1.38135251e+01,\n",
       "       8.88277706e-01, 2.36457763e+01, 3.85460599e+01, 3.32322757e+00,\n",
       "       3.51009261e-01, 8.47379798e+00, 2.87504167e+01, 2.73792471e+01,\n",
       "       1.59668947e+00, 2.25180581e+01, 1.77093081e-01, 4.70602710e-01,\n",
       "       2.15323862e-01, 1.59945654e+01, 2.88687519e-01, 6.30943212e-01,\n",
       "       1.31319704e+00, 3.17022018e+01, 8.06966423e+00, 2.74919387e-01,\n",
       "       6.96927401e+00, 4.04764703e+01, 7.31829955e+00, 5.18919160e-01,\n",
       "       7.30563881e-01, 2.37431012e-01, 1.25273508e+01, 9.79476556e-01,\n",
       "       4.25035568e+01, 1.68647129e-01, 1.76367163e+01, 1.45053149e+01,\n",
       "       1.37896275e+00, 1.67665266e+00, 3.18326865e-01, 5.73187848e+00,\n",
       "       1.08191044e+01, 6.32036642e+00, 2.05054601e-01, 3.67077149e+01,\n",
       "       2.14070246e+00, 7.67150969e-01, 2.61807887e-01, 3.01380257e+00,\n",
       "       2.49321703e-01, 8.45913822e-01, 1.95275104e-01, 4.27524616e+00,\n",
       "       1.52944432e-01, 9.34379688e+00, 1.76062045e+00, 1.44802206e+00,\n",
       "       3.32898676e+01, 3.34268870e-01, 5.72196226e-01, 2.24921208e-01,\n",
       "       5.42987635e+00, 4.04298477e-01, 1.84986418e-01, 4.46580107e+00,\n",
       "       6.01200161e-02, 3.16656858e-01, 3.67289749e+00, 2.48013711e-01,\n",
       "       8.06036924e-02, 2.03978843e-01, 8.42934274e+00, 1.75441905e+01,\n",
       "       9.27869738e-01, 1.18673077e+01, 2.73477105e-01, 2.60434390e-01,\n",
       "       1.02490657e+01, 1.08066425e-01, 3.02077405e+00, 8.02732916e+00,\n",
       "       2.87173007e-01, 2.73951043e+00, 5.98735794e+00, 9.35459145e-01,\n",
       "       4.68945114e+00, 3.85016609e-01, 6.96124650e-02, 2.48443521e+00,\n",
       "       7.67595280e-02, 4.92430174e+00, 2.36185401e-01, 3.01554808e-01,\n",
       "       1.76164015e-01, 1.44292171e+01, 7.27990628e+00, 3.66654334e-01,\n",
       "       3.49167796e-01, 1.94587290e+00, 6.59065412e-01, 8.85148941e+00,\n",
       "       1.25129212e-01, 4.04999130e+00, 1.52142054e-01, 3.33091480e+00,\n",
       "       6.60207579e+00, 4.45807519e-01, 3.32515228e-01, 8.46403750e-02,\n",
       "       6.93271181e+00, 1.13478458e-01, 1.59106547e+01, 1.19161529e-01,\n",
       "       2.36594712e+00, 1.51518412e+01, 8.88792170e-02, 2.04332341e+00,\n",
       "       1.60038290e+00, 7.64448847e+00, 1.31395760e-01, 1.94250651e-01,\n",
       "       9.29477745e+00, 2.14194230e-01, 2.03142718e+01, 1.84228144e+01,\n",
       "       9.33303429e-02, 1.31623470e+00, 8.83617624e-01, 1.02912504e-01,\n",
       "       2.87670680e+00, 1.13013301e+01, 3.03320741e-02, 4.27032175e-02,\n",
       "       8.41475988e-01, 5.17091380e+00, 1.44886071e-01, 1.85307001e+00,\n",
       "       1.37976141e-01, 4.25281736e+00, 1.93454403e+01, 1.67762372e-01,\n",
       "       6.28720852e+00, 5.45222545e-02, 4.91578264e-01, 5.70180790e+00,\n",
       "       3.85683846e+00, 3.01729459e-02, 1.24472759e-01, 1.07499487e-01,\n",
       "       9.30016071e-01, 2.35353489e+00, 6.92472641e-02, 2.13439777e+00,\n",
       "       8.84129388e-02, 5.42362198e-02, 6.59447123e-02, 7.28412258e-01,\n",
       "       7.27152097e-02, 3.16840256e-02, 2.25571293e-01, 7.63568322e-02,\n",
       "       4.24791878e-02, 1.02372604e-01, 4.91862971e-02, 3.49370023e-02,\n",
       "       7.64891593e-01, 3.83660471e+00, 4.66484934e+00, 2.24128972e+00,\n",
       "       8.03197834e-01, 3.31344016e+00, 3.00492646e+00, 1.93231573e-01,\n",
       "       3.32707811e-02, 1.84015942e-01, 1.51343887e-01, 2.02908730e-01,\n",
       "       4.02874424e+00, 5.70511021e-01, 6.27996664e-02, 1.02550017e+00,\n",
       "       4.44237258e+00, 2.47140137e+00, 1.37490150e+00, 8.01808293e-02,\n",
       "       9.28407132e-02, 8.41963346e-02, 9.74902333e-02, 1.75239824e-01,\n",
       "       1.07685785e+00, 1.93566446e+00, 5.69524031e-02, 3.66866689e-02,\n",
       "       1.84334843e+00, 4.68404963e-02, 5.98046145e-02, 8.43422476e-01,\n",
       "       4.04532635e-02, 5.16495772e-02, 1.18741809e+00, 1.75543516e+00,\n",
       "       2.87339329e-02, 8.85661593e-01, 1.31471861e-02, 2.73635495e-02,\n",
       "       2.60585226e-02, 4.46065717e-02, 1.30932947e+00, 2.31150666e-01,\n",
       "       2.23741227e-01, 5.10205446e+00, 2.03260372e+00, 9.80611451e-03,\n",
       "       1.59198697e+00, 1.67171466e+00, 2.36322192e-02, 4.92715375e-01,\n",
       "       6.29084988e-01, 1.18536384e-01, 3.15541503e+00, 1.37252290e-01,\n",
       "       3.85239599e-02])"
      ]
     },
     "execution_count": 36,
     "metadata": {},
     "output_type": "execute_result"
    }
   ],
   "source": [
    "df.prediction.unique()"
   ]
  },
  {
   "cell_type": "markdown",
   "metadata": {},
   "source": [
    "Holy Moly! The odds ratio for `female` shot way up in this new model. And we know this new model is better than the old one. Remember the Pseudo R-squared for this model `survived ~ pclass + female + age` is almost double what we had for `survived ~ female`.\n",
    "\n",
    "\n",
    "So once we **control for** the class of a passenger's ticket and their age, a female passenger has more than 20 times the odds of survival of male passenger!"
   ]
  },
  {
   "cell_type": "code",
   "execution_count": 37,
   "metadata": {},
   "outputs": [
    {
     "name": "stdout",
     "output_type": "stream",
     "text": [
      "(Intercept)      pclass      female         age \n",
      " 2.81880543 -1.42240121  3.08618761 -0.04886694 \n"
     ]
    }
   ],
   "source": [
    "%%R \n",
    "coef(logistic)"
   ]
  },
  {
   "cell_type": "code",
   "execution_count": 38,
   "metadata": {},
   "outputs": [
    {
     "name": "stdout",
     "output_type": "stream",
     "text": [
      "(Intercept)      pclass      female         age \n",
      " 16.7568215   0.2411343  21.8934523   0.9523078 \n"
     ]
    }
   ],
   "source": [
    "%%R \n",
    "exp(coef(logistic))"
   ]
  },
  {
   "cell_type": "markdown",
   "metadata": {},
   "source": [
    "#### Extra - transforming age for a better model\n",
    "\n",
    "\n"
   ]
  },
  {
   "cell_type": "code",
   "execution_count": 39,
   "metadata": {},
   "outputs": [
    {
     "name": "stdout",
     "output_type": "stream",
     "text": [
      "\n",
      "Call:\n",
      "glm(formula = survived ~ pclass + female + I(log(age)), family = \"binomial\", \n",
      "    data = df)\n",
      "\n",
      "Deviance Residuals: \n",
      "    Min       1Q   Median       3Q      Max  \n",
      "-3.3503  -0.6499  -0.2929   0.5287   2.6625  \n",
      "\n",
      "Coefficients:\n",
      "            Estimate Std. Error z value Pr(>|z|)    \n",
      "(Intercept)   4.5525     0.7351   6.193 5.90e-10 ***\n",
      "pclass       -1.3691     0.1640  -8.350  < 2e-16 ***\n",
      "female        3.1462     0.2453  12.828  < 2e-16 ***\n",
      "I(log(age))  -1.0404     0.1706  -6.097 1.08e-09 ***\n",
      "---\n",
      "Signif. codes:  0 ‘***’ 0.001 ‘**’ 0.01 ‘*’ 0.05 ‘.’ 0.1 ‘ ’ 1\n",
      "\n",
      "(Dispersion parameter for binomial family taken to be 1)\n",
      "\n",
      "    Null deviance: 869.54  on 632  degrees of freedom\n",
      "Residual deviance: 527.92  on 629  degrees of freedom\n",
      "AIC: 535.92\n",
      "\n",
      "Number of Fisher Scoring iterations: 5\n",
      "\n",
      " McFadden \n",
      "0.3928754 \n"
     ]
    }
   ],
   "source": [
    "%%R -i df\n",
    "\n",
    "# Here I take log(age). Why? Because a 1-year-old and a 10-year-old are quite different, \n",
    "# whereas a 55-year-old and a 65-year-old are not so different...but inputting age as a \n",
    "# linear variable doesn't reflect this...a natural log, however, helps to account for that!\n",
    "#\n",
    "# another way to do this might have been to bucket the ages into \"child\", \"teenager\", \"adult\", \"elderly\"\n",
    "# or something along those lines\n",
    "#\n",
    "# This is a TRANSFORMATION of the input to better reflect the truth we're modeling\n",
    "# later on, in machine learning land, we'll call this \"Feature Engineering\"\n",
    "#\n",
    "# finally...the age doesn't NEED to be transformed, but this does improve the model a little and allow us \n",
    "# to better predict probability of survival\n",
    "\n",
    "logistic <- glm(survived ~ pclass + female + I(log(age)), data=df, family=\"binomial\")\n",
    "print(summary(logistic))\n",
    "print(PseudoR2(logistic, which=\"McFadden\"))"
   ]
  },
  {
   "cell_type": "markdown",
   "metadata": {},
   "source": [
    "## MISC ... some other charts I made\n",
    "\n",
    "Rolling average of 20 people at a time...their average age vs chance of survival for each class"
   ]
  },
  {
   "cell_type": "code",
   "execution_count": 40,
   "metadata": {},
   "outputs": [
    {
     "data": {
      "image/png": "[encoded data removed]",
      "text/plain": [
       "<Figure size 640x480 with 1 Axes>"
      ]
     },
     "metadata": {},
     "output_type": "display_data"
    },
    {
     "data": {
      "text/plain": [
       "<ggplot: (505032345)>"
      ]
     },
     "execution_count": 40,
     "metadata": {},
     "output_type": "execute_result"
    }
   ],
   "source": [
    "from plotnine import * \n",
    "\n",
    "(\n",
    "ggplot(df[['age', 'survived','pclass']].query('pclass==1').dropna().sort_values(by='age').rolling(20, center=False).mean().dropna()) +\n",
    "    geom_point(aes(x='age', y='survived')) +\n",
    "    ylim(0,1) +\n",
    "    ggtitle(\"1st class | 20 person rolling average odds of survival\")\n",
    ")"
   ]
  },
  {
   "cell_type": "code",
   "execution_count": 41,
   "metadata": {},
   "outputs": [
    {
     "data": {
      "image/png": "[encoded data removed]",
      "text/plain": [
       "<Figure size 640x480 with 1 Axes>"
      ]
     },
     "metadata": {},
     "output_type": "display_data"
    },
    {
     "data": {
      "text/plain": [
       "<ggplot: (285517893)>"
      ]
     },
     "execution_count": 41,
     "metadata": {},
     "output_type": "execute_result"
    }
   ],
   "source": [
    "(\n",
    "ggplot(df[['age', 'survived','pclass']].query('pclass==2').dropna().sort_values(by='age').rolling(20, center=False).mean().dropna()) +\n",
    "    geom_point(aes(x='age', y='survived')) +\n",
    "    ylim(0,1) +\n",
    "    ggtitle(\"2nd class | 20 person rolling average odds of survival\")\n",
    ")"
   ]
  },
  {
   "cell_type": "code",
   "execution_count": 42,
   "metadata": {},
   "outputs": [
    {
     "data": {
      "image/png": "[encoded data removed]",
      "text/plain": [
       "<Figure size 640x480 with 1 Axes>"
      ]
     },
     "metadata": {},
     "output_type": "display_data"
    },
    {
     "data": {
      "text/plain": [
       "<ggplot: (508539773)>"
      ]
     },
     "execution_count": 42,
     "metadata": {},
     "output_type": "execute_result"
    }
   ],
   "source": [
    "(\n",
    "ggplot(df[['age', 'survived','pclass']].query('pclass==3').dropna().sort_values(by='age').rolling(20, center=False).mean().dropna()) +\n",
    "    geom_point(aes(x='age', y='survived')) +\n",
    "    ylim(0,1) +\n",
    "    ggtitle(\"3rd class | 20 person rolling average odds of survival\")\n",
    ")"
   ]
  },
  {
   "cell_type": "markdown",
   "metadata": {},
   "source": [
    "# What if I look at age as a binary?"
   ]
  },
  {
   "cell_type": "code",
   "execution_count": 43,
   "metadata": {},
   "outputs": [
    {
     "name": "stdout",
     "output_type": "stream",
     "text": [
      "Optimization terminated successfully.\n",
      "         Current function value: 0.430884\n",
      "         Iterations 6\n"
     ]
    },
    {
     "data": {
      "text/html": [
       "<table class=\"simpletable\">\n",
       "<caption>Logit Regression Results</caption>\n",
       "<tr>\n",
       "  <th>Dep. Variable:</th>       <td>survived</td>     <th>  No. Observations:  </th>  <td>   633</td>  \n",
       "</tr>\n",
       "<tr>\n",
       "  <th>Model:</th>                 <td>Logit</td>      <th>  Df Residuals:      </th>  <td>   629</td>  \n",
       "</tr>\n",
       "<tr>\n",
       "  <th>Method:</th>                 <td>MLE</td>       <th>  Df Model:          </th>  <td>     3</td>  \n",
       "</tr>\n",
       "<tr>\n",
       "  <th>Date:</th>            <td>Wed, 26 Apr 2023</td> <th>  Pseudo R-squ.:     </th>  <td>0.3727</td>  \n",
       "</tr>\n",
       "<tr>\n",
       "  <th>Time:</th>                <td>11:49:02</td>     <th>  Log-Likelihood:    </th> <td> -272.75</td> \n",
       "</tr>\n",
       "<tr>\n",
       "  <th>converged:</th>             <td>True</td>       <th>  LL-Null:           </th> <td> -434.77</td> \n",
       "</tr>\n",
       "<tr>\n",
       "  <th>Covariance Type:</th>     <td>nonrobust</td>    <th>  LLR p-value:       </th> <td>6.210e-70</td>\n",
       "</tr>\n",
       "</table>\n",
       "<table class=\"simpletable\">\n",
       "<tr>\n",
       "          <td></td>            <th>coef</th>     <th>std err</th>      <th>z</th>      <th>P>|z|</th>  <th>[0.025</th>    <th>0.975]</th>  \n",
       "</tr>\n",
       "<tr>\n",
       "  <th>Intercept</th>        <td>    0.5432</td> <td>    0.272</td> <td>    1.995</td> <td> 0.046</td> <td>    0.010</td> <td>    1.077</td>\n",
       "</tr>\n",
       "<tr>\n",
       "  <th>age < 16[T.True]</th> <td>    1.9827</td> <td>    0.376</td> <td>    5.273</td> <td> 0.000</td> <td>    1.246</td> <td>    2.720</td>\n",
       "</tr>\n",
       "<tr>\n",
       "  <th>pclass</th>           <td>   -1.1394</td> <td>    0.148</td> <td>   -7.674</td> <td> 0.000</td> <td>   -1.430</td> <td>   -0.848</td>\n",
       "</tr>\n",
       "<tr>\n",
       "  <th>female</th>           <td>    3.0906</td> <td>    0.241</td> <td>   12.845</td> <td> 0.000</td> <td>    2.619</td> <td>    3.562</td>\n",
       "</tr>\n",
       "</table>"
      ],
      "text/plain": [
       "<class 'statsmodels.iolib.summary.Summary'>\n",
       "\"\"\"\n",
       "                           Logit Regression Results                           \n",
       "==============================================================================\n",
       "Dep. Variable:               survived   No. Observations:                  633\n",
       "Model:                          Logit   Df Residuals:                      629\n",
       "Method:                           MLE   Df Model:                            3\n",
       "Date:                Wed, 26 Apr 2023   Pseudo R-squ.:                  0.3727\n",
       "Time:                        11:49:02   Log-Likelihood:                -272.75\n",
       "converged:                       True   LL-Null:                       -434.77\n",
       "Covariance Type:            nonrobust   LLR p-value:                 6.210e-70\n",
       "====================================================================================\n",
       "                       coef    std err          z      P>|z|      [0.025      0.975]\n",
       "------------------------------------------------------------------------------------\n",
       "Intercept            0.5432      0.272      1.995      0.046       0.010       1.077\n",
       "age < 16[T.True]     1.9827      0.376      5.273      0.000       1.246       2.720\n",
       "pclass              -1.1394      0.148     -7.674      0.000      -1.430      -0.848\n",
       "female               3.0906      0.241     12.845      0.000       2.619       3.562\n",
       "====================================================================================\n",
       "\"\"\""
      ]
     },
     "execution_count": 43,
     "metadata": {},
     "output_type": "execute_result"
    }
   ],
   "source": [
    "\n",
    "import statsmodels.formula.api as smf\n",
    "\n",
    "model = smf.logit(\"survived ~ pclass + female + age<16\", data=df)\n",
    "results = model.fit()\n",
    "results.summary()\n"
   ]
  },
  {
   "cell_type": "code",
   "execution_count": 44,
   "metadata": {},
   "outputs": [
    {
     "data": {
      "text/html": [
       "<div>\n",
       "<style scoped>\n",
       "    .dataframe tbody tr th:only-of-type {\n",
       "        vertical-align: middle;\n",
       "    }\n",
       "\n",
       "    .dataframe tbody tr th {\n",
       "        vertical-align: top;\n",
       "    }\n",
       "\n",
       "    .dataframe thead th {\n",
       "        text-align: right;\n",
       "    }\n",
       "</style>\n",
       "<table border=\"1\" class=\"dataframe\">\n",
       "  <thead>\n",
       "    <tr style=\"text-align: right;\">\n",
       "      <th></th>\n",
       "      <th>coef</th>\n",
       "      <th>odds ratio</th>\n",
       "      <th>pvalue</th>\n",
       "      <th>name</th>\n",
       "    </tr>\n",
       "  </thead>\n",
       "  <tbody>\n",
       "    <tr>\n",
       "      <th>Intercept</th>\n",
       "      <td>0.54</td>\n",
       "      <td>1.72</td>\n",
       "      <td>0.05</td>\n",
       "      <td>Intercept</td>\n",
       "    </tr>\n",
       "    <tr>\n",
       "      <th>age &lt; 16[T.True]</th>\n",
       "      <td>1.98</td>\n",
       "      <td>7.26</td>\n",
       "      <td>0.00</td>\n",
       "      <td>age &lt; 16[T.True]</td>\n",
       "    </tr>\n",
       "    <tr>\n",
       "      <th>pclass</th>\n",
       "      <td>-1.14</td>\n",
       "      <td>0.32</td>\n",
       "      <td>0.00</td>\n",
       "      <td>pclass</td>\n",
       "    </tr>\n",
       "    <tr>\n",
       "      <th>female</th>\n",
       "      <td>3.09</td>\n",
       "      <td>21.99</td>\n",
       "      <td>0.00</td>\n",
       "      <td>female</td>\n",
       "    </tr>\n",
       "  </tbody>\n",
       "</table>\n",
       "</div>"
      ],
      "text/plain": [
       "                  coef  odds ratio  pvalue              name\n",
       "Intercept         0.54        1.72    0.05         Intercept\n",
       "age < 16[T.True]  1.98        7.26    0.00  age < 16[T.True]\n",
       "pclass           -1.14        0.32    0.00            pclass\n",
       "female            3.09       21.99    0.00            female"
      ]
     },
     "execution_count": 44,
     "metadata": {},
     "output_type": "execute_result"
    }
   ],
   "source": [
    "\n",
    "coefs = pd.DataFrame({\n",
    "    'coef': results.params.values,\n",
    "    'odds ratio': np.exp(results.params.values),\n",
    "    'pvalue': results.pvalues,\n",
    "    'name': results.params.index\n",
    "})\n",
    "\n",
    "coefs.round(2)"
   ]
  },
  {
   "cell_type": "markdown",
   "metadata": {},
   "source": [
    "This gives us a more explainable result."
   ]
  },
  {
   "cell_type": "markdown",
   "metadata": {},
   "source": [
    "# The story"
   ]
  },
  {
   "cell_type": "markdown",
   "metadata": {},
   "source": [
    "- Sometimes you spend hours crafting the right sentence from the model\n",
    "- Many times the model informs the story. For example, here are some headlines that could come of an analysis like this:\n",
    "    - **Women and Children First** // Not everyone escaped on a lifeboat that tragic day\n",
    "    - **The Rich Were Safer** // Passengers aboard the titanic who could afford to pay were more likely to be saved"
   ]
  },
  {
   "cell_type": "markdown",
   "metadata": {},
   "source": [
    "Most of the time, the model isn't the story. It simply helps you to tell the story.\n",
    "\n",
    "So we can ask ourselves if, in this case, talking about odds ratios or effect sizes makes the story more powerful, or needlessly distracts from the point? Can we go back to our simple pivot tables as we report out what exactly happened that day the titanic hit an iceberg?"
   ]
  },
  {
   "cell_type": "code",
   "execution_count": 45,
   "metadata": {},
   "outputs": [
    {
     "data": {
      "text/html": [
       "<div>\n",
       "<style scoped>\n",
       "    .dataframe tbody tr th:only-of-type {\n",
       "        vertical-align: middle;\n",
       "    }\n",
       "\n",
       "    .dataframe tbody tr th {\n",
       "        vertical-align: top;\n",
       "    }\n",
       "\n",
       "    .dataframe thead th {\n",
       "        text-align: right;\n",
       "    }\n",
       "</style>\n",
       "<table border=\"1\" class=\"dataframe\">\n",
       "  <thead>\n",
       "    <tr style=\"text-align: right;\">\n",
       "      <th></th>\n",
       "      <th></th>\n",
       "      <th>survived</th>\n",
       "      <th>0</th>\n",
       "      <th>1</th>\n",
       "      <th>All</th>\n",
       "    </tr>\n",
       "    <tr>\n",
       "      <th>pclass</th>\n",
       "      <th>gender</th>\n",
       "      <th>child</th>\n",
       "      <th></th>\n",
       "      <th></th>\n",
       "      <th></th>\n",
       "    </tr>\n",
       "  </thead>\n",
       "  <tbody>\n",
       "    <tr>\n",
       "      <th rowspan=\"6\" valign=\"top\">1st</th>\n",
       "      <th rowspan=\"3\" valign=\"top\">female</th>\n",
       "      <th>adult</th>\n",
       "      <td>4</td>\n",
       "      <td>90</td>\n",
       "      <td>94</td>\n",
       "    </tr>\n",
       "    <tr>\n",
       "      <th>child</th>\n",
       "      <td>1</td>\n",
       "      <td>6</td>\n",
       "      <td>7</td>\n",
       "    </tr>\n",
       "    <tr>\n",
       "      <th>unknown</th>\n",
       "      <td>4</td>\n",
       "      <td>38</td>\n",
       "      <td>42</td>\n",
       "    </tr>\n",
       "    <tr>\n",
       "      <th rowspan=\"3\" valign=\"top\">male</th>\n",
       "      <th>adult</th>\n",
       "      <td>82</td>\n",
       "      <td>37</td>\n",
       "      <td>119</td>\n",
       "    </tr>\n",
       "    <tr>\n",
       "      <th>child</th>\n",
       "      <td>0</td>\n",
       "      <td>6</td>\n",
       "      <td>6</td>\n",
       "    </tr>\n",
       "    <tr>\n",
       "      <th>unknown</th>\n",
       "      <td>38</td>\n",
       "      <td>16</td>\n",
       "      <td>54</td>\n",
       "    </tr>\n",
       "    <tr>\n",
       "      <th rowspan=\"6\" valign=\"top\">2nd</th>\n",
       "      <th rowspan=\"3\" valign=\"top\">female</th>\n",
       "      <th>adult</th>\n",
       "      <td>10</td>\n",
       "      <td>61</td>\n",
       "      <td>71</td>\n",
       "    </tr>\n",
       "    <tr>\n",
       "      <th>child</th>\n",
       "      <td>0</td>\n",
       "      <td>14</td>\n",
       "      <td>14</td>\n",
       "    </tr>\n",
       "    <tr>\n",
       "      <th>unknown</th>\n",
       "      <td>3</td>\n",
       "      <td>19</td>\n",
       "      <td>22</td>\n",
       "    </tr>\n",
       "    <tr>\n",
       "      <th rowspan=\"3\" valign=\"top\">male</th>\n",
       "      <th>adult</th>\n",
       "      <td>104</td>\n",
       "      <td>10</td>\n",
       "      <td>114</td>\n",
       "    </tr>\n",
       "    <tr>\n",
       "      <th>child</th>\n",
       "      <td>2</td>\n",
       "      <td>11</td>\n",
       "      <td>13</td>\n",
       "    </tr>\n",
       "    <tr>\n",
       "      <th>unknown</th>\n",
       "      <td>42</td>\n",
       "      <td>4</td>\n",
       "      <td>46</td>\n",
       "    </tr>\n",
       "    <tr>\n",
       "      <th rowspan=\"6\" valign=\"top\">3rd</th>\n",
       "      <th rowspan=\"3\" valign=\"top\">female</th>\n",
       "      <th>adult</th>\n",
       "      <td>20</td>\n",
       "      <td>18</td>\n",
       "      <td>38</td>\n",
       "    </tr>\n",
       "    <tr>\n",
       "      <th>child</th>\n",
       "      <td>9</td>\n",
       "      <td>10</td>\n",
       "      <td>19</td>\n",
       "    </tr>\n",
       "    <tr>\n",
       "      <th>unknown</th>\n",
       "      <td>105</td>\n",
       "      <td>51</td>\n",
       "      <td>156</td>\n",
       "    </tr>\n",
       "    <tr>\n",
       "      <th rowspan=\"3\" valign=\"top\">male</th>\n",
       "      <th>adult</th>\n",
       "      <td>103</td>\n",
       "      <td>12</td>\n",
       "      <td>115</td>\n",
       "    </tr>\n",
       "    <tr>\n",
       "      <th>child</th>\n",
       "      <td>17</td>\n",
       "      <td>6</td>\n",
       "      <td>23</td>\n",
       "    </tr>\n",
       "    <tr>\n",
       "      <th>unknown</th>\n",
       "      <td>320</td>\n",
       "      <td>40</td>\n",
       "      <td>360</td>\n",
       "    </tr>\n",
       "    <tr>\n",
       "      <th>All</th>\n",
       "      <th></th>\n",
       "      <th></th>\n",
       "      <td>864</td>\n",
       "      <td>449</td>\n",
       "      <td>1313</td>\n",
       "    </tr>\n",
       "  </tbody>\n",
       "</table>\n",
       "</div>"
      ],
      "text/plain": [
       "survived                 0    1   All\n",
       "pclass gender child                  \n",
       "1st    female adult      4   90    94\n",
       "              child      1    6     7\n",
       "              unknown    4   38    42\n",
       "       male   adult     82   37   119\n",
       "              child      0    6     6\n",
       "              unknown   38   16    54\n",
       "2nd    female adult     10   61    71\n",
       "              child      0   14    14\n",
       "              unknown    3   19    22\n",
       "       male   adult    104   10   114\n",
       "              child      2   11    13\n",
       "              unknown   42    4    46\n",
       "3rd    female adult     20   18    38\n",
       "              child      9   10    19\n",
       "              unknown  105   51   156\n",
       "       male   adult    103   12   115\n",
       "              child     17    6    23\n",
       "              unknown  320   40   360\n",
       "All                    864  449  1313"
      ]
     },
     "execution_count": 45,
     "metadata": {},
     "output_type": "execute_result"
    }
   ],
   "source": [
    "def categorize_age(age):\n",
    "    if np.isnan(age):\n",
    "        return 'unknown'\n",
    "    \n",
    "    if age<18:\n",
    "        return 'child'\n",
    "    else: \n",
    "        return 'adult'\n",
    "\n",
    "\n",
    "\n",
    "df = pd.read_csv('titanic.csv')\\\n",
    "    .assign(\n",
    "        child = lambda x: x.age.apply(categorize_age)\n",
    "    )\n",
    "\n",
    "df.pivot_table(\n",
    "    columns='survived', index=['pclass', 'gender', 'child'], aggfunc='count', values='name', margins=True\n",
    ").fillna(0).astype('int')"
   ]
  }
 ],
 "metadata": {
  "kernelspec": {
   "display_name": "Python 3",
   "language": "python",
   "name": "python3"
  },
  "language_info": {
   "codemirror_mode": {
    "name": "ipython",
    "version": 3
   },
   "file_extension": ".py",
   "mimetype": "text/x-python",
   "name": "python",
   "nbconvert_exporter": "python",
   "pygments_lexer": "ipython3",
   "version": "3.12.7"
  }
 },
 "nbformat": 4,
 "nbformat_minor": 1
}
